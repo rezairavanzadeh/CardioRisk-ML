{
 "cells": [
  {
   "cell_type": "markdown",
   "id": "53904d53-5bfb-4723-8c41-1f85b0309f37",
   "metadata": {},
   "source": [
    "# Cardio Risk Machine Learning Prediction Model\n",
    "\n",
    "\n",
    "More specifically, we'll look at the following topics.\n",
    "\n",
    "* **Exploratory data analysis (EDA)** \n",
    "* **Model training** \n",
    "* **Model evaluation** \n",
    "* **Model comparison** \n",
    "* **Model fine-tuning** \n",
    "* **Feature importance** \n",
    "* **Cross-validation** \n",
    "* **Reporting** \n"
   ]
  },
  {
   "cell_type": "markdown",
   "id": "3a728387-0f38-47e5-a0a2-5efad69c08df",
   "metadata": {},
   "source": [
    "### Heart Disease Data Dictionary\n",
    "\n",
    "The following are the features we'll use to predict our target variable (heart disease or no heart disease).\n",
    "\n",
    "1. age - age in years \n",
    "2. sex - (1 = male; 0 = female) \n",
    "3. cp - chest pain type \n",
    "    * 0: Typical angina: chest pain related decrease blood supply to the heart\n",
    "    * 1: Atypical angina: chest pain not related to heart\n",
    "    * 2: Non-anginal pain: typically esophageal spasms (non heart related)\n",
    "    * 3: Asymptomatic: chest pain not showing signs of disease\n",
    "4. trestbps - resting blood pressure (in mm Hg on admission to the hospital)\n",
    "    * anything above 130-140 is typically cause for concern\n",
    "5. chol - serum cholestoral in mg/dl \n",
    "    * serum = LDL + HDL + .2 * triglycerides\n",
    "    * above 200 is cause for concern\n",
    "6. fbs - (fasting blood sugar > 120 mg/dl) (1 = true; 0 = false) \n",
    "    * '>126' mg/dL signals diabetes\n",
    "7. restecg - resting electrocardiographic results\n",
    "    * 0: Nothing to note\n",
    "    * 1: ST-T Wave abnormality\n",
    "        - can range from mild symptoms to severe problems\n",
    "        - signals non-normal heart beat\n",
    "    * 2: Possible or definite left ventricular hypertrophy\n",
    "        - Enlarged heart's main pumping chamber\n",
    "8. thalach - maximum heart rate achieved \n",
    "9. exang - exercise induced angina (1 = yes; 0 = no) \n",
    "10. oldpeak - ST depression induced by exercise relative to rest \n",
    "    * looks at stress of heart during excercise\n",
    "    * unhealthy heart will stress more\n",
    "11. slope - the slope of the peak exercise ST segment\n",
    "    * 0: Upsloping: better heart rate with excercise (uncommon)\n",
    "    * 1: Flatsloping: minimal change (typical healthy heart)\n",
    "    * 2: Downslopins: signs of unhealthy heart\n",
    "12. ca - number of major vessels (0-3) colored by flourosopy \n",
    "    * colored vessel means the doctor can see the blood passing through\n",
    "    * the more blood movement the better (no clots)\n",
    "13. thal - thalium stress result\n",
    "    * 1,3: normal\n",
    "    * 6: fixed defect: used to be defect but ok now\n",
    "    * 7: reversable defect: no proper blood movement when excercising \n",
    "14. target - have disease or not (1=yes, 0=no) (= the predicted attribute)\n",
    "\n",
    "**Note:** No personal identifiable information (PPI) can be found in the dataset.\n"
   ]
  },
  {
   "cell_type": "markdown",
   "id": "a4fa591b-8a5a-40c6-bd3a-907474c28ae3",
   "metadata": {},
   "source": [
    "## Preparing the tools\n",
    "\n",
    "* [pandas](https://pandas.pydata.org/) for data analysis.\n",
    "* [NumPy](https://numpy.org/) for numerical operations.\n",
    "* [Matplotlib](https://matplotlib.org/)/[seaborn](https://seaborn.pydata.org/) for plotting or data visualization.\n",
    "* [Scikit-Learn](https://scikit-learn.org/stable/) for machine learning modelling and evaluation."
   ]
  },
  {
   "cell_type": "code",
   "execution_count": 1,
   "id": "60cefb58-cccb-4872-a527-cb65ae4bece7",
   "metadata": {},
   "outputs": [],
   "source": [
    "import numpy as np\n",
    "import pandas as pd\n",
    "import matplotlib.pyplot as plt\n",
    "import seaborn as sns\n",
    "%matplotlib inline \n",
    "\n",
    "## Models\n",
    "from sklearn.linear_model import LogisticRegression\n",
    "from sklearn.neighbors import KNeighborsClassifier\n",
    "from sklearn.ensemble import RandomForestClassifier\n",
    "from sklearn.svm import SVC\n",
    "from sklearn.naive_bayes import GaussianNB\n",
    "from xgboost import XGBClassifier\n",
    "from lightgbm import LGBMClassifier\n",
    "from catboost import CatBoostClassifier\n",
    "\n",
    "\n",
    "## Model evaluators\n",
    "from sklearn.model_selection import train_test_split, cross_val_score\n",
    "from sklearn.model_selection import RandomizedSearchCV, GridSearchCV\n",
    "from sklearn.metrics import confusion_matrix, classification_report\n",
    "from sklearn.metrics import precision_score, recall_score, f1_score\n",
    "from sklearn.metrics import RocCurveDisplay\n",
    "\n"
   ]
  },
  {
   "cell_type": "markdown",
   "id": "2d3ca9f5-2b0d-4e09-92fa-a3d9f45b2de4",
   "metadata": {},
   "source": [
    "## Load Data"
   ]
  },
  {
   "cell_type": "code",
   "execution_count": 2,
   "id": "71e738ab-aebd-4076-ac30-67b637feff31",
   "metadata": {},
   "outputs": [
    {
     "data": {
      "text/plain": [
       "(303, 14)"
      ]
     },
     "execution_count": 2,
     "metadata": {},
     "output_type": "execute_result"
    }
   ],
   "source": [
    "df = pd.read_csv(\"heart-disease.csv\") # 'DataFrame' shortened to 'df'\n",
    "df.shape"
   ]
  },
  {
   "cell_type": "markdown",
   "id": "344a837d-d5b3-4dad-9602-13c14a0c6103",
   "metadata": {},
   "source": [
    "## Data Exploration (exploratory data analysis or EDA)"
   ]
  },
  {
   "cell_type": "code",
   "execution_count": 3,
   "id": "1e7d7678-a60e-4fbf-aa64-5c4ca3754160",
   "metadata": {},
   "outputs": [
    {
     "data": {
      "text/html": [
       "<div>\n",
       "<style scoped>\n",
       "    .dataframe tbody tr th:only-of-type {\n",
       "        vertical-align: middle;\n",
       "    }\n",
       "\n",
       "    .dataframe tbody tr th {\n",
       "        vertical-align: top;\n",
       "    }\n",
       "\n",
       "    .dataframe thead th {\n",
       "        text-align: right;\n",
       "    }\n",
       "</style>\n",
       "<table border=\"1\" class=\"dataframe\">\n",
       "  <thead>\n",
       "    <tr style=\"text-align: right;\">\n",
       "      <th></th>\n",
       "      <th>age</th>\n",
       "      <th>sex</th>\n",
       "      <th>cp</th>\n",
       "      <th>trestbps</th>\n",
       "      <th>chol</th>\n",
       "      <th>fbs</th>\n",
       "      <th>restecg</th>\n",
       "      <th>thalach</th>\n",
       "      <th>exang</th>\n",
       "      <th>oldpeak</th>\n",
       "      <th>slope</th>\n",
       "      <th>ca</th>\n",
       "      <th>thal</th>\n",
       "      <th>target</th>\n",
       "    </tr>\n",
       "  </thead>\n",
       "  <tbody>\n",
       "    <tr>\n",
       "      <th>0</th>\n",
       "      <td>63</td>\n",
       "      <td>1</td>\n",
       "      <td>3</td>\n",
       "      <td>145</td>\n",
       "      <td>233</td>\n",
       "      <td>1</td>\n",
       "      <td>0</td>\n",
       "      <td>150</td>\n",
       "      <td>0</td>\n",
       "      <td>2.3</td>\n",
       "      <td>0</td>\n",
       "      <td>0</td>\n",
       "      <td>1</td>\n",
       "      <td>1</td>\n",
       "    </tr>\n",
       "    <tr>\n",
       "      <th>1</th>\n",
       "      <td>37</td>\n",
       "      <td>1</td>\n",
       "      <td>2</td>\n",
       "      <td>130</td>\n",
       "      <td>250</td>\n",
       "      <td>0</td>\n",
       "      <td>1</td>\n",
       "      <td>187</td>\n",
       "      <td>0</td>\n",
       "      <td>3.5</td>\n",
       "      <td>0</td>\n",
       "      <td>0</td>\n",
       "      <td>2</td>\n",
       "      <td>1</td>\n",
       "    </tr>\n",
       "    <tr>\n",
       "      <th>2</th>\n",
       "      <td>41</td>\n",
       "      <td>0</td>\n",
       "      <td>1</td>\n",
       "      <td>130</td>\n",
       "      <td>204</td>\n",
       "      <td>0</td>\n",
       "      <td>0</td>\n",
       "      <td>172</td>\n",
       "      <td>0</td>\n",
       "      <td>1.4</td>\n",
       "      <td>2</td>\n",
       "      <td>0</td>\n",
       "      <td>2</td>\n",
       "      <td>1</td>\n",
       "    </tr>\n",
       "    <tr>\n",
       "      <th>3</th>\n",
       "      <td>56</td>\n",
       "      <td>1</td>\n",
       "      <td>1</td>\n",
       "      <td>120</td>\n",
       "      <td>236</td>\n",
       "      <td>0</td>\n",
       "      <td>1</td>\n",
       "      <td>178</td>\n",
       "      <td>0</td>\n",
       "      <td>0.8</td>\n",
       "      <td>2</td>\n",
       "      <td>0</td>\n",
       "      <td>2</td>\n",
       "      <td>1</td>\n",
       "    </tr>\n",
       "    <tr>\n",
       "      <th>4</th>\n",
       "      <td>57</td>\n",
       "      <td>0</td>\n",
       "      <td>0</td>\n",
       "      <td>120</td>\n",
       "      <td>354</td>\n",
       "      <td>0</td>\n",
       "      <td>1</td>\n",
       "      <td>163</td>\n",
       "      <td>1</td>\n",
       "      <td>0.6</td>\n",
       "      <td>2</td>\n",
       "      <td>0</td>\n",
       "      <td>2</td>\n",
       "      <td>1</td>\n",
       "    </tr>\n",
       "    <tr>\n",
       "      <th>5</th>\n",
       "      <td>57</td>\n",
       "      <td>1</td>\n",
       "      <td>0</td>\n",
       "      <td>140</td>\n",
       "      <td>192</td>\n",
       "      <td>0</td>\n",
       "      <td>1</td>\n",
       "      <td>148</td>\n",
       "      <td>0</td>\n",
       "      <td>0.4</td>\n",
       "      <td>1</td>\n",
       "      <td>0</td>\n",
       "      <td>1</td>\n",
       "      <td>1</td>\n",
       "    </tr>\n",
       "    <tr>\n",
       "      <th>6</th>\n",
       "      <td>56</td>\n",
       "      <td>0</td>\n",
       "      <td>1</td>\n",
       "      <td>140</td>\n",
       "      <td>294</td>\n",
       "      <td>0</td>\n",
       "      <td>0</td>\n",
       "      <td>153</td>\n",
       "      <td>0</td>\n",
       "      <td>1.3</td>\n",
       "      <td>1</td>\n",
       "      <td>0</td>\n",
       "      <td>2</td>\n",
       "      <td>1</td>\n",
       "    </tr>\n",
       "    <tr>\n",
       "      <th>7</th>\n",
       "      <td>44</td>\n",
       "      <td>1</td>\n",
       "      <td>1</td>\n",
       "      <td>120</td>\n",
       "      <td>263</td>\n",
       "      <td>0</td>\n",
       "      <td>1</td>\n",
       "      <td>173</td>\n",
       "      <td>0</td>\n",
       "      <td>0.0</td>\n",
       "      <td>2</td>\n",
       "      <td>0</td>\n",
       "      <td>3</td>\n",
       "      <td>1</td>\n",
       "    </tr>\n",
       "    <tr>\n",
       "      <th>8</th>\n",
       "      <td>52</td>\n",
       "      <td>1</td>\n",
       "      <td>2</td>\n",
       "      <td>172</td>\n",
       "      <td>199</td>\n",
       "      <td>1</td>\n",
       "      <td>1</td>\n",
       "      <td>162</td>\n",
       "      <td>0</td>\n",
       "      <td>0.5</td>\n",
       "      <td>2</td>\n",
       "      <td>0</td>\n",
       "      <td>3</td>\n",
       "      <td>1</td>\n",
       "    </tr>\n",
       "    <tr>\n",
       "      <th>9</th>\n",
       "      <td>57</td>\n",
       "      <td>1</td>\n",
       "      <td>2</td>\n",
       "      <td>150</td>\n",
       "      <td>168</td>\n",
       "      <td>0</td>\n",
       "      <td>1</td>\n",
       "      <td>174</td>\n",
       "      <td>0</td>\n",
       "      <td>1.6</td>\n",
       "      <td>2</td>\n",
       "      <td>0</td>\n",
       "      <td>2</td>\n",
       "      <td>1</td>\n",
       "    </tr>\n",
       "  </tbody>\n",
       "</table>\n",
       "</div>"
      ],
      "text/plain": [
       "   age  sex  cp  trestbps  chol  fbs  restecg  thalach  exang  oldpeak  slope  \\\n",
       "0   63    1   3       145   233    1        0      150      0      2.3      0   \n",
       "1   37    1   2       130   250    0        1      187      0      3.5      0   \n",
       "2   41    0   1       130   204    0        0      172      0      1.4      2   \n",
       "3   56    1   1       120   236    0        1      178      0      0.8      2   \n",
       "4   57    0   0       120   354    0        1      163      1      0.6      2   \n",
       "5   57    1   0       140   192    0        1      148      0      0.4      1   \n",
       "6   56    0   1       140   294    0        0      153      0      1.3      1   \n",
       "7   44    1   1       120   263    0        1      173      0      0.0      2   \n",
       "8   52    1   2       172   199    1        1      162      0      0.5      2   \n",
       "9   57    1   2       150   168    0        1      174      0      1.6      2   \n",
       "\n",
       "   ca  thal  target  \n",
       "0   0     1       1  \n",
       "1   0     2       1  \n",
       "2   0     2       1  \n",
       "3   0     2       1  \n",
       "4   0     2       1  \n",
       "5   0     1       1  \n",
       "6   0     2       1  \n",
       "7   0     3       1  \n",
       "8   0     3       1  \n",
       "9   0     2       1  "
      ]
     },
     "execution_count": 3,
     "metadata": {},
     "output_type": "execute_result"
    }
   ],
   "source": [
    "df.head(10)"
   ]
  },
  {
   "cell_type": "markdown",
   "id": "8c1856e3-3e32-4a5d-8555-f56194d49646",
   "metadata": {},
   "source": [
    "`value_counts()` allows you to show how many times each of the values of a **categorical** column appear."
   ]
  },
  {
   "cell_type": "code",
   "execution_count": 4,
   "id": "5334c16e-6b20-4331-a096-fca2f6bf1a99",
   "metadata": {},
   "outputs": [
    {
     "data": {
      "text/plain": [
       "target\n",
       "1    165\n",
       "0    138\n",
       "Name: count, dtype: int64"
      ]
     },
     "execution_count": 4,
     "metadata": {},
     "output_type": "execute_result"
    }
   ],
   "source": [
    "df.target.value_counts()"
   ]
  },
  {
   "cell_type": "markdown",
   "id": "42938e16-f83b-4ff2-9b8c-d43b52d6a9cc",
   "metadata": {},
   "source": [
    "Since these two values are close to even, our `target` column can be considered **balanced**."
   ]
  },
  {
   "cell_type": "code",
   "execution_count": 5,
   "id": "32aa5c97-1ee9-42a1-8d83-cf8fe1f70ddd",
   "metadata": {},
   "outputs": [
    {
     "data": {
      "text/plain": [
       "target\n",
       "1    0.544554\n",
       "0    0.455446\n",
       "Name: proportion, dtype: float64"
      ]
     },
     "execution_count": 5,
     "metadata": {},
     "output_type": "execute_result"
    }
   ],
   "source": [
    "df.target.value_counts(normalize=True)"
   ]
  },
  {
   "cell_type": "markdown",
   "id": "0f12b87f-31eb-43f0-b614-07f49a822e6a",
   "metadata": {},
   "source": [
    "`df.info()` and `df.describe()` show a quick insight to the number of missing values you have and what type of data your working with."
   ]
  },
  {
   "cell_type": "code",
   "execution_count": 6,
   "id": "95a366b3-3780-4956-9858-1eeefb2f1ce5",
   "metadata": {},
   "outputs": [
    {
     "name": "stdout",
     "output_type": "stream",
     "text": [
      "<class 'pandas.core.frame.DataFrame'>\n",
      "RangeIndex: 303 entries, 0 to 302\n",
      "Data columns (total 14 columns):\n",
      " #   Column    Non-Null Count  Dtype  \n",
      "---  ------    --------------  -----  \n",
      " 0   age       303 non-null    int64  \n",
      " 1   sex       303 non-null    int64  \n",
      " 2   cp        303 non-null    int64  \n",
      " 3   trestbps  303 non-null    int64  \n",
      " 4   chol      303 non-null    int64  \n",
      " 5   fbs       303 non-null    int64  \n",
      " 6   restecg   303 non-null    int64  \n",
      " 7   thalach   303 non-null    int64  \n",
      " 8   exang     303 non-null    int64  \n",
      " 9   oldpeak   303 non-null    float64\n",
      " 10  slope     303 non-null    int64  \n",
      " 11  ca        303 non-null    int64  \n",
      " 12  thal      303 non-null    int64  \n",
      " 13  target    303 non-null    int64  \n",
      "dtypes: float64(1), int64(13)\n",
      "memory usage: 33.3 KB\n"
     ]
    }
   ],
   "source": [
    "df.info()"
   ]
  },
  {
   "cell_type": "code",
   "execution_count": 7,
   "id": "2c25d22c-7827-4842-99d1-228fed5dec38",
   "metadata": {},
   "outputs": [
    {
     "data": {
      "text/html": [
       "<div>\n",
       "<style scoped>\n",
       "    .dataframe tbody tr th:only-of-type {\n",
       "        vertical-align: middle;\n",
       "    }\n",
       "\n",
       "    .dataframe tbody tr th {\n",
       "        vertical-align: top;\n",
       "    }\n",
       "\n",
       "    .dataframe thead th {\n",
       "        text-align: right;\n",
       "    }\n",
       "</style>\n",
       "<table border=\"1\" class=\"dataframe\">\n",
       "  <thead>\n",
       "    <tr style=\"text-align: right;\">\n",
       "      <th></th>\n",
       "      <th>age</th>\n",
       "      <th>sex</th>\n",
       "      <th>cp</th>\n",
       "      <th>trestbps</th>\n",
       "      <th>chol</th>\n",
       "      <th>fbs</th>\n",
       "      <th>restecg</th>\n",
       "      <th>thalach</th>\n",
       "      <th>exang</th>\n",
       "      <th>oldpeak</th>\n",
       "      <th>slope</th>\n",
       "      <th>ca</th>\n",
       "      <th>thal</th>\n",
       "      <th>target</th>\n",
       "    </tr>\n",
       "  </thead>\n",
       "  <tbody>\n",
       "    <tr>\n",
       "      <th>count</th>\n",
       "      <td>303.000000</td>\n",
       "      <td>303.000000</td>\n",
       "      <td>303.000000</td>\n",
       "      <td>303.000000</td>\n",
       "      <td>303.000000</td>\n",
       "      <td>303.000000</td>\n",
       "      <td>303.000000</td>\n",
       "      <td>303.000000</td>\n",
       "      <td>303.000000</td>\n",
       "      <td>303.000000</td>\n",
       "      <td>303.000000</td>\n",
       "      <td>303.000000</td>\n",
       "      <td>303.000000</td>\n",
       "      <td>303.000000</td>\n",
       "    </tr>\n",
       "    <tr>\n",
       "      <th>mean</th>\n",
       "      <td>54.366337</td>\n",
       "      <td>0.683168</td>\n",
       "      <td>0.966997</td>\n",
       "      <td>131.623762</td>\n",
       "      <td>246.264026</td>\n",
       "      <td>0.148515</td>\n",
       "      <td>0.528053</td>\n",
       "      <td>149.646865</td>\n",
       "      <td>0.326733</td>\n",
       "      <td>1.039604</td>\n",
       "      <td>1.399340</td>\n",
       "      <td>0.729373</td>\n",
       "      <td>2.313531</td>\n",
       "      <td>0.544554</td>\n",
       "    </tr>\n",
       "    <tr>\n",
       "      <th>std</th>\n",
       "      <td>9.082101</td>\n",
       "      <td>0.466011</td>\n",
       "      <td>1.032052</td>\n",
       "      <td>17.538143</td>\n",
       "      <td>51.830751</td>\n",
       "      <td>0.356198</td>\n",
       "      <td>0.525860</td>\n",
       "      <td>22.905161</td>\n",
       "      <td>0.469794</td>\n",
       "      <td>1.161075</td>\n",
       "      <td>0.616226</td>\n",
       "      <td>1.022606</td>\n",
       "      <td>0.612277</td>\n",
       "      <td>0.498835</td>\n",
       "    </tr>\n",
       "    <tr>\n",
       "      <th>min</th>\n",
       "      <td>29.000000</td>\n",
       "      <td>0.000000</td>\n",
       "      <td>0.000000</td>\n",
       "      <td>94.000000</td>\n",
       "      <td>126.000000</td>\n",
       "      <td>0.000000</td>\n",
       "      <td>0.000000</td>\n",
       "      <td>71.000000</td>\n",
       "      <td>0.000000</td>\n",
       "      <td>0.000000</td>\n",
       "      <td>0.000000</td>\n",
       "      <td>0.000000</td>\n",
       "      <td>0.000000</td>\n",
       "      <td>0.000000</td>\n",
       "    </tr>\n",
       "    <tr>\n",
       "      <th>25%</th>\n",
       "      <td>47.500000</td>\n",
       "      <td>0.000000</td>\n",
       "      <td>0.000000</td>\n",
       "      <td>120.000000</td>\n",
       "      <td>211.000000</td>\n",
       "      <td>0.000000</td>\n",
       "      <td>0.000000</td>\n",
       "      <td>133.500000</td>\n",
       "      <td>0.000000</td>\n",
       "      <td>0.000000</td>\n",
       "      <td>1.000000</td>\n",
       "      <td>0.000000</td>\n",
       "      <td>2.000000</td>\n",
       "      <td>0.000000</td>\n",
       "    </tr>\n",
       "    <tr>\n",
       "      <th>50%</th>\n",
       "      <td>55.000000</td>\n",
       "      <td>1.000000</td>\n",
       "      <td>1.000000</td>\n",
       "      <td>130.000000</td>\n",
       "      <td>240.000000</td>\n",
       "      <td>0.000000</td>\n",
       "      <td>1.000000</td>\n",
       "      <td>153.000000</td>\n",
       "      <td>0.000000</td>\n",
       "      <td>0.800000</td>\n",
       "      <td>1.000000</td>\n",
       "      <td>0.000000</td>\n",
       "      <td>2.000000</td>\n",
       "      <td>1.000000</td>\n",
       "    </tr>\n",
       "    <tr>\n",
       "      <th>75%</th>\n",
       "      <td>61.000000</td>\n",
       "      <td>1.000000</td>\n",
       "      <td>2.000000</td>\n",
       "      <td>140.000000</td>\n",
       "      <td>274.500000</td>\n",
       "      <td>0.000000</td>\n",
       "      <td>1.000000</td>\n",
       "      <td>166.000000</td>\n",
       "      <td>1.000000</td>\n",
       "      <td>1.600000</td>\n",
       "      <td>2.000000</td>\n",
       "      <td>1.000000</td>\n",
       "      <td>3.000000</td>\n",
       "      <td>1.000000</td>\n",
       "    </tr>\n",
       "    <tr>\n",
       "      <th>max</th>\n",
       "      <td>77.000000</td>\n",
       "      <td>1.000000</td>\n",
       "      <td>3.000000</td>\n",
       "      <td>200.000000</td>\n",
       "      <td>564.000000</td>\n",
       "      <td>1.000000</td>\n",
       "      <td>2.000000</td>\n",
       "      <td>202.000000</td>\n",
       "      <td>1.000000</td>\n",
       "      <td>6.200000</td>\n",
       "      <td>2.000000</td>\n",
       "      <td>4.000000</td>\n",
       "      <td>3.000000</td>\n",
       "      <td>1.000000</td>\n",
       "    </tr>\n",
       "  </tbody>\n",
       "</table>\n",
       "</div>"
      ],
      "text/plain": [
       "              age         sex          cp    trestbps        chol         fbs  \\\n",
       "count  303.000000  303.000000  303.000000  303.000000  303.000000  303.000000   \n",
       "mean    54.366337    0.683168    0.966997  131.623762  246.264026    0.148515   \n",
       "std      9.082101    0.466011    1.032052   17.538143   51.830751    0.356198   \n",
       "min     29.000000    0.000000    0.000000   94.000000  126.000000    0.000000   \n",
       "25%     47.500000    0.000000    0.000000  120.000000  211.000000    0.000000   \n",
       "50%     55.000000    1.000000    1.000000  130.000000  240.000000    0.000000   \n",
       "75%     61.000000    1.000000    2.000000  140.000000  274.500000    0.000000   \n",
       "max     77.000000    1.000000    3.000000  200.000000  564.000000    1.000000   \n",
       "\n",
       "          restecg     thalach       exang     oldpeak       slope          ca  \\\n",
       "count  303.000000  303.000000  303.000000  303.000000  303.000000  303.000000   \n",
       "mean     0.528053  149.646865    0.326733    1.039604    1.399340    0.729373   \n",
       "std      0.525860   22.905161    0.469794    1.161075    0.616226    1.022606   \n",
       "min      0.000000   71.000000    0.000000    0.000000    0.000000    0.000000   \n",
       "25%      0.000000  133.500000    0.000000    0.000000    1.000000    0.000000   \n",
       "50%      1.000000  153.000000    0.000000    0.800000    1.000000    0.000000   \n",
       "75%      1.000000  166.000000    1.000000    1.600000    2.000000    1.000000   \n",
       "max      2.000000  202.000000    1.000000    6.200000    2.000000    4.000000   \n",
       "\n",
       "             thal      target  \n",
       "count  303.000000  303.000000  \n",
       "mean     2.313531    0.544554  \n",
       "std      0.612277    0.498835  \n",
       "min      0.000000    0.000000  \n",
       "25%      2.000000    0.000000  \n",
       "50%      2.000000    1.000000  \n",
       "75%      3.000000    1.000000  \n",
       "max      3.000000    1.000000  "
      ]
     },
     "execution_count": 7,
     "metadata": {},
     "output_type": "execute_result"
    }
   ],
   "source": [
    "df.describe()"
   ]
  },
  {
   "cell_type": "markdown",
   "id": "2c76ef20-4345-435a-9c47-033489ee3381",
   "metadata": {},
   "source": [
    "### Making a visual crosstab (target and sex)"
   ]
  },
  {
   "cell_type": "code",
   "execution_count": 8,
   "id": "c0ba4065-b849-4021-965c-3413fc4c13b3",
   "metadata": {},
   "outputs": [
    {
     "data": {
      "image/png": "[encoded data removed]",
      "text/plain": [
       "<Figure size 1000x600 with 1 Axes>"
      ]
     },
     "metadata": {},
     "output_type": "display_data"
    }
   ],
   "source": [
    "pd.crosstab(df.target, df.sex).plot(kind=\"bar\", figsize=(10,6), color=[\"blue\", \"lightblue\"])\n",
    "\n",
    "plt.title(\"Heart Disease Frequency for Sex\")\n",
    "plt.xlabel(\"0 = No Disease, 1 = Disease\")\n",
    "plt.ylabel(\"Amount\")\n",
    "plt.legend([\"Female\", \"Male\"])\n",
    "plt.xticks(rotation=0);"
   ]
  },
  {
   "cell_type": "markdown",
   "id": "9bba7377-9997-4618-ad3c-4e90d7e87b8b",
   "metadata": {},
   "source": [
    "### Age vs Max Heart rate for Heart Disease"
   ]
  },
  {
   "cell_type": "code",
   "execution_count": 9,
   "id": "edc9a869-b7b2-491f-9192-4f86cd7d8d2f",
   "metadata": {},
   "outputs": [
    {
     "data": {
      "image/png": "[encoded data removed]",
      "text/plain": [
       "<Figure size 1000x600 with 1 Axes>"
      ]
     },
     "metadata": {},
     "output_type": "display_data"
    }
   ],
   "source": [
    "plt.figure(figsize=(10,6))\n",
    "\n",
    "plt.scatter(df.age[df.target==1], \n",
    "            df.thalach[df.target==1], \n",
    "            c=\"blue\")\n",
    "\n",
    "plt.scatter(df.age[df.target==0], \n",
    "            df.thalach[df.target==0], \n",
    "            c=\"lightblue\")\n",
    "\n",
    "plt.title(\"Heart Disease in function of Age and Max Heart Rate\")\n",
    "plt.xlabel(\"Age\")\n",
    "plt.legend([\"Disease\", \"No Disease\"])\n",
    "plt.ylabel(\"Max Heart Rate\");"
   ]
  },
  {
   "cell_type": "markdown",
   "id": "52f6c8de-7d1c-4dd9-9af0-0e92f6b13d06",
   "metadata": {},
   "source": [
    "### Age distribution"
   ]
  },
  {
   "cell_type": "code",
   "execution_count": 10,
   "id": "398bdfef-98cd-4afd-966b-2aa4d11936b9",
   "metadata": {},
   "outputs": [
    {
     "data": {
      "image/png": "[encoded data removed]",
      "text/plain": [
       "<Figure size 640x480 with 1 Axes>"
      ]
     },
     "metadata": {},
     "output_type": "display_data"
    }
   ],
   "source": [
    "df.age.plot.hist();"
   ]
  },
  {
   "cell_type": "markdown",
   "id": "856ee894-b1b8-463f-93ad-7c5198e8f0df",
   "metadata": {},
   "source": [
    "### Correlation between independent variables"
   ]
  },
  {
   "cell_type": "code",
   "execution_count": 11,
   "id": "79443e58-5033-43f0-b713-2547ee7cd656",
   "metadata": {},
   "outputs": [
    {
     "data": {
      "text/html": [
       "<div>\n",
       "<style scoped>\n",
       "    .dataframe tbody tr th:only-of-type {\n",
       "        vertical-align: middle;\n",
       "    }\n",
       "\n",
       "    .dataframe tbody tr th {\n",
       "        vertical-align: top;\n",
       "    }\n",
       "\n",
       "    .dataframe thead th {\n",
       "        text-align: right;\n",
       "    }\n",
       "</style>\n",
       "<table border=\"1\" class=\"dataframe\">\n",
       "  <thead>\n",
       "    <tr style=\"text-align: right;\">\n",
       "      <th></th>\n",
       "      <th>age</th>\n",
       "      <th>sex</th>\n",
       "      <th>cp</th>\n",
       "      <th>trestbps</th>\n",
       "      <th>chol</th>\n",
       "      <th>fbs</th>\n",
       "      <th>restecg</th>\n",
       "      <th>thalach</th>\n",
       "      <th>exang</th>\n",
       "      <th>oldpeak</th>\n",
       "      <th>slope</th>\n",
       "      <th>ca</th>\n",
       "      <th>thal</th>\n",
       "      <th>target</th>\n",
       "    </tr>\n",
       "  </thead>\n",
       "  <tbody>\n",
       "    <tr>\n",
       "      <th>age</th>\n",
       "      <td>1.000000</td>\n",
       "      <td>-0.098447</td>\n",
       "      <td>-0.068653</td>\n",
       "      <td>0.279351</td>\n",
       "      <td>0.213678</td>\n",
       "      <td>0.121308</td>\n",
       "      <td>-0.116211</td>\n",
       "      <td>-0.398522</td>\n",
       "      <td>0.096801</td>\n",
       "      <td>0.210013</td>\n",
       "      <td>-0.168814</td>\n",
       "      <td>0.276326</td>\n",
       "      <td>0.068001</td>\n",
       "      <td>-0.225439</td>\n",
       "    </tr>\n",
       "    <tr>\n",
       "      <th>sex</th>\n",
       "      <td>-0.098447</td>\n",
       "      <td>1.000000</td>\n",
       "      <td>-0.049353</td>\n",
       "      <td>-0.056769</td>\n",
       "      <td>-0.197912</td>\n",
       "      <td>0.045032</td>\n",
       "      <td>-0.058196</td>\n",
       "      <td>-0.044020</td>\n",
       "      <td>0.141664</td>\n",
       "      <td>0.096093</td>\n",
       "      <td>-0.030711</td>\n",
       "      <td>0.118261</td>\n",
       "      <td>0.210041</td>\n",
       "      <td>-0.280937</td>\n",
       "    </tr>\n",
       "    <tr>\n",
       "      <th>cp</th>\n",
       "      <td>-0.068653</td>\n",
       "      <td>-0.049353</td>\n",
       "      <td>1.000000</td>\n",
       "      <td>0.047608</td>\n",
       "      <td>-0.076904</td>\n",
       "      <td>0.094444</td>\n",
       "      <td>0.044421</td>\n",
       "      <td>0.295762</td>\n",
       "      <td>-0.394280</td>\n",
       "      <td>-0.149230</td>\n",
       "      <td>0.119717</td>\n",
       "      <td>-0.181053</td>\n",
       "      <td>-0.161736</td>\n",
       "      <td>0.433798</td>\n",
       "    </tr>\n",
       "    <tr>\n",
       "      <th>trestbps</th>\n",
       "      <td>0.279351</td>\n",
       "      <td>-0.056769</td>\n",
       "      <td>0.047608</td>\n",
       "      <td>1.000000</td>\n",
       "      <td>0.123174</td>\n",
       "      <td>0.177531</td>\n",
       "      <td>-0.114103</td>\n",
       "      <td>-0.046698</td>\n",
       "      <td>0.067616</td>\n",
       "      <td>0.193216</td>\n",
       "      <td>-0.121475</td>\n",
       "      <td>0.101389</td>\n",
       "      <td>0.062210</td>\n",
       "      <td>-0.144931</td>\n",
       "    </tr>\n",
       "    <tr>\n",
       "      <th>chol</th>\n",
       "      <td>0.213678</td>\n",
       "      <td>-0.197912</td>\n",
       "      <td>-0.076904</td>\n",
       "      <td>0.123174</td>\n",
       "      <td>1.000000</td>\n",
       "      <td>0.013294</td>\n",
       "      <td>-0.151040</td>\n",
       "      <td>-0.009940</td>\n",
       "      <td>0.067023</td>\n",
       "      <td>0.053952</td>\n",
       "      <td>-0.004038</td>\n",
       "      <td>0.070511</td>\n",
       "      <td>0.098803</td>\n",
       "      <td>-0.085239</td>\n",
       "    </tr>\n",
       "    <tr>\n",
       "      <th>fbs</th>\n",
       "      <td>0.121308</td>\n",
       "      <td>0.045032</td>\n",
       "      <td>0.094444</td>\n",
       "      <td>0.177531</td>\n",
       "      <td>0.013294</td>\n",
       "      <td>1.000000</td>\n",
       "      <td>-0.084189</td>\n",
       "      <td>-0.008567</td>\n",
       "      <td>0.025665</td>\n",
       "      <td>0.005747</td>\n",
       "      <td>-0.059894</td>\n",
       "      <td>0.137979</td>\n",
       "      <td>-0.032019</td>\n",
       "      <td>-0.028046</td>\n",
       "    </tr>\n",
       "    <tr>\n",
       "      <th>restecg</th>\n",
       "      <td>-0.116211</td>\n",
       "      <td>-0.058196</td>\n",
       "      <td>0.044421</td>\n",
       "      <td>-0.114103</td>\n",
       "      <td>-0.151040</td>\n",
       "      <td>-0.084189</td>\n",
       "      <td>1.000000</td>\n",
       "      <td>0.044123</td>\n",
       "      <td>-0.070733</td>\n",
       "      <td>-0.058770</td>\n",
       "      <td>0.093045</td>\n",
       "      <td>-0.072042</td>\n",
       "      <td>-0.011981</td>\n",
       "      <td>0.137230</td>\n",
       "    </tr>\n",
       "    <tr>\n",
       "      <th>thalach</th>\n",
       "      <td>-0.398522</td>\n",
       "      <td>-0.044020</td>\n",
       "      <td>0.295762</td>\n",
       "      <td>-0.046698</td>\n",
       "      <td>-0.009940</td>\n",
       "      <td>-0.008567</td>\n",
       "      <td>0.044123</td>\n",
       "      <td>1.000000</td>\n",
       "      <td>-0.378812</td>\n",
       "      <td>-0.344187</td>\n",
       "      <td>0.386784</td>\n",
       "      <td>-0.213177</td>\n",
       "      <td>-0.096439</td>\n",
       "      <td>0.421741</td>\n",
       "    </tr>\n",
       "    <tr>\n",
       "      <th>exang</th>\n",
       "      <td>0.096801</td>\n",
       "      <td>0.141664</td>\n",
       "      <td>-0.394280</td>\n",
       "      <td>0.067616</td>\n",
       "      <td>0.067023</td>\n",
       "      <td>0.025665</td>\n",
       "      <td>-0.070733</td>\n",
       "      <td>-0.378812</td>\n",
       "      <td>1.000000</td>\n",
       "      <td>0.288223</td>\n",
       "      <td>-0.257748</td>\n",
       "      <td>0.115739</td>\n",
       "      <td>0.206754</td>\n",
       "      <td>-0.436757</td>\n",
       "    </tr>\n",
       "    <tr>\n",
       "      <th>oldpeak</th>\n",
       "      <td>0.210013</td>\n",
       "      <td>0.096093</td>\n",
       "      <td>-0.149230</td>\n",
       "      <td>0.193216</td>\n",
       "      <td>0.053952</td>\n",
       "      <td>0.005747</td>\n",
       "      <td>-0.058770</td>\n",
       "      <td>-0.344187</td>\n",
       "      <td>0.288223</td>\n",
       "      <td>1.000000</td>\n",
       "      <td>-0.577537</td>\n",
       "      <td>0.222682</td>\n",
       "      <td>0.210244</td>\n",
       "      <td>-0.430696</td>\n",
       "    </tr>\n",
       "    <tr>\n",
       "      <th>slope</th>\n",
       "      <td>-0.168814</td>\n",
       "      <td>-0.030711</td>\n",
       "      <td>0.119717</td>\n",
       "      <td>-0.121475</td>\n",
       "      <td>-0.004038</td>\n",
       "      <td>-0.059894</td>\n",
       "      <td>0.093045</td>\n",
       "      <td>0.386784</td>\n",
       "      <td>-0.257748</td>\n",
       "      <td>-0.577537</td>\n",
       "      <td>1.000000</td>\n",
       "      <td>-0.080155</td>\n",
       "      <td>-0.104764</td>\n",
       "      <td>0.345877</td>\n",
       "    </tr>\n",
       "    <tr>\n",
       "      <th>ca</th>\n",
       "      <td>0.276326</td>\n",
       "      <td>0.118261</td>\n",
       "      <td>-0.181053</td>\n",
       "      <td>0.101389</td>\n",
       "      <td>0.070511</td>\n",
       "      <td>0.137979</td>\n",
       "      <td>-0.072042</td>\n",
       "      <td>-0.213177</td>\n",
       "      <td>0.115739</td>\n",
       "      <td>0.222682</td>\n",
       "      <td>-0.080155</td>\n",
       "      <td>1.000000</td>\n",
       "      <td>0.151832</td>\n",
       "      <td>-0.391724</td>\n",
       "    </tr>\n",
       "    <tr>\n",
       "      <th>thal</th>\n",
       "      <td>0.068001</td>\n",
       "      <td>0.210041</td>\n",
       "      <td>-0.161736</td>\n",
       "      <td>0.062210</td>\n",
       "      <td>0.098803</td>\n",
       "      <td>-0.032019</td>\n",
       "      <td>-0.011981</td>\n",
       "      <td>-0.096439</td>\n",
       "      <td>0.206754</td>\n",
       "      <td>0.210244</td>\n",
       "      <td>-0.104764</td>\n",
       "      <td>0.151832</td>\n",
       "      <td>1.000000</td>\n",
       "      <td>-0.344029</td>\n",
       "    </tr>\n",
       "    <tr>\n",
       "      <th>target</th>\n",
       "      <td>-0.225439</td>\n",
       "      <td>-0.280937</td>\n",
       "      <td>0.433798</td>\n",
       "      <td>-0.144931</td>\n",
       "      <td>-0.085239</td>\n",
       "      <td>-0.028046</td>\n",
       "      <td>0.137230</td>\n",
       "      <td>0.421741</td>\n",
       "      <td>-0.436757</td>\n",
       "      <td>-0.430696</td>\n",
       "      <td>0.345877</td>\n",
       "      <td>-0.391724</td>\n",
       "      <td>-0.344029</td>\n",
       "      <td>1.000000</td>\n",
       "    </tr>\n",
       "  </tbody>\n",
       "</table>\n",
       "</div>"
      ],
      "text/plain": [
       "               age       sex        cp  trestbps      chol       fbs  \\\n",
       "age       1.000000 -0.098447 -0.068653  0.279351  0.213678  0.121308   \n",
       "sex      -0.098447  1.000000 -0.049353 -0.056769 -0.197912  0.045032   \n",
       "cp       -0.068653 -0.049353  1.000000  0.047608 -0.076904  0.094444   \n",
       "trestbps  0.279351 -0.056769  0.047608  1.000000  0.123174  0.177531   \n",
       "chol      0.213678 -0.197912 -0.076904  0.123174  1.000000  0.013294   \n",
       "fbs       0.121308  0.045032  0.094444  0.177531  0.013294  1.000000   \n",
       "restecg  -0.116211 -0.058196  0.044421 -0.114103 -0.151040 -0.084189   \n",
       "thalach  -0.398522 -0.044020  0.295762 -0.046698 -0.009940 -0.008567   \n",
       "exang     0.096801  0.141664 -0.394280  0.067616  0.067023  0.025665   \n",
       "oldpeak   0.210013  0.096093 -0.149230  0.193216  0.053952  0.005747   \n",
       "slope    -0.168814 -0.030711  0.119717 -0.121475 -0.004038 -0.059894   \n",
       "ca        0.276326  0.118261 -0.181053  0.101389  0.070511  0.137979   \n",
       "thal      0.068001  0.210041 -0.161736  0.062210  0.098803 -0.032019   \n",
       "target   -0.225439 -0.280937  0.433798 -0.144931 -0.085239 -0.028046   \n",
       "\n",
       "           restecg   thalach     exang   oldpeak     slope        ca  \\\n",
       "age      -0.116211 -0.398522  0.096801  0.210013 -0.168814  0.276326   \n",
       "sex      -0.058196 -0.044020  0.141664  0.096093 -0.030711  0.118261   \n",
       "cp        0.044421  0.295762 -0.394280 -0.149230  0.119717 -0.181053   \n",
       "trestbps -0.114103 -0.046698  0.067616  0.193216 -0.121475  0.101389   \n",
       "chol     -0.151040 -0.009940  0.067023  0.053952 -0.004038  0.070511   \n",
       "fbs      -0.084189 -0.008567  0.025665  0.005747 -0.059894  0.137979   \n",
       "restecg   1.000000  0.044123 -0.070733 -0.058770  0.093045 -0.072042   \n",
       "thalach   0.044123  1.000000 -0.378812 -0.344187  0.386784 -0.213177   \n",
       "exang    -0.070733 -0.378812  1.000000  0.288223 -0.257748  0.115739   \n",
       "oldpeak  -0.058770 -0.344187  0.288223  1.000000 -0.577537  0.222682   \n",
       "slope     0.093045  0.386784 -0.257748 -0.577537  1.000000 -0.080155   \n",
       "ca       -0.072042 -0.213177  0.115739  0.222682 -0.080155  1.000000   \n",
       "thal     -0.011981 -0.096439  0.206754  0.210244 -0.104764  0.151832   \n",
       "target    0.137230  0.421741 -0.436757 -0.430696  0.345877 -0.391724   \n",
       "\n",
       "              thal    target  \n",
       "age       0.068001 -0.225439  \n",
       "sex       0.210041 -0.280937  \n",
       "cp       -0.161736  0.433798  \n",
       "trestbps  0.062210 -0.144931  \n",
       "chol      0.098803 -0.085239  \n",
       "fbs      -0.032019 -0.028046  \n",
       "restecg  -0.011981  0.137230  \n",
       "thalach  -0.096439  0.421741  \n",
       "exang     0.206754 -0.436757  \n",
       "oldpeak   0.210244 -0.430696  \n",
       "slope    -0.104764  0.345877  \n",
       "ca        0.151832 -0.391724  \n",
       "thal      1.000000 -0.344029  \n",
       "target   -0.344029  1.000000  "
      ]
     },
     "execution_count": 11,
     "metadata": {},
     "output_type": "execute_result"
    }
   ],
   "source": [
    "corr_matrix = df.corr()\n",
    "corr_matrix "
   ]
  },
  {
   "cell_type": "code",
   "execution_count": 12,
   "id": "b4f30197-6ca5-403d-99d8-a9000c5ac2be",
   "metadata": {},
   "outputs": [
    {
     "data": {
      "image/png": "[encoded data removed]",
      "text/plain": [
       "<Figure size 1500x1000 with 2 Axes>"
      ]
     },
     "metadata": {},
     "output_type": "display_data"
    }
   ],
   "source": [
    "corr_matrix = df.corr()\n",
    "plt.figure(figsize=(15, 10))\n",
    "sns.heatmap(corr_matrix, \n",
    "            annot=True, \n",
    "            linewidths=0.5, \n",
    "            fmt= \".2f\", \n",
    "            cmap=\"YlGnBu\");"
   ]
  },
  {
   "cell_type": "code",
   "execution_count": 13,
   "id": "395b8e03-af2e-4500-b83e-ddf95745de03",
   "metadata": {},
   "outputs": [
    {
     "data": {
      "text/html": [
       "<div>\n",
       "<style scoped>\n",
       "    .dataframe tbody tr th:only-of-type {\n",
       "        vertical-align: middle;\n",
       "    }\n",
       "\n",
       "    .dataframe tbody tr th {\n",
       "        vertical-align: top;\n",
       "    }\n",
       "\n",
       "    .dataframe thead th {\n",
       "        text-align: right;\n",
       "    }\n",
       "</style>\n",
       "<table border=\"1\" class=\"dataframe\">\n",
       "  <thead>\n",
       "    <tr style=\"text-align: right;\">\n",
       "      <th></th>\n",
       "      <th>age</th>\n",
       "      <th>sex</th>\n",
       "      <th>cp</th>\n",
       "      <th>trestbps</th>\n",
       "      <th>chol</th>\n",
       "      <th>fbs</th>\n",
       "      <th>restecg</th>\n",
       "      <th>thalach</th>\n",
       "      <th>exang</th>\n",
       "      <th>oldpeak</th>\n",
       "      <th>slope</th>\n",
       "      <th>ca</th>\n",
       "      <th>thal</th>\n",
       "      <th>target</th>\n",
       "    </tr>\n",
       "  </thead>\n",
       "  <tbody>\n",
       "    <tr>\n",
       "      <th>0</th>\n",
       "      <td>63</td>\n",
       "      <td>1</td>\n",
       "      <td>3</td>\n",
       "      <td>145</td>\n",
       "      <td>233</td>\n",
       "      <td>1</td>\n",
       "      <td>0</td>\n",
       "      <td>150</td>\n",
       "      <td>0</td>\n",
       "      <td>2.3</td>\n",
       "      <td>0</td>\n",
       "      <td>0</td>\n",
       "      <td>1</td>\n",
       "      <td>1</td>\n",
       "    </tr>\n",
       "    <tr>\n",
       "      <th>1</th>\n",
       "      <td>37</td>\n",
       "      <td>1</td>\n",
       "      <td>2</td>\n",
       "      <td>130</td>\n",
       "      <td>250</td>\n",
       "      <td>0</td>\n",
       "      <td>1</td>\n",
       "      <td>187</td>\n",
       "      <td>0</td>\n",
       "      <td>3.5</td>\n",
       "      <td>0</td>\n",
       "      <td>0</td>\n",
       "      <td>2</td>\n",
       "      <td>1</td>\n",
       "    </tr>\n",
       "    <tr>\n",
       "      <th>2</th>\n",
       "      <td>41</td>\n",
       "      <td>0</td>\n",
       "      <td>1</td>\n",
       "      <td>130</td>\n",
       "      <td>204</td>\n",
       "      <td>0</td>\n",
       "      <td>0</td>\n",
       "      <td>172</td>\n",
       "      <td>0</td>\n",
       "      <td>1.4</td>\n",
       "      <td>2</td>\n",
       "      <td>0</td>\n",
       "      <td>2</td>\n",
       "      <td>1</td>\n",
       "    </tr>\n",
       "    <tr>\n",
       "      <th>3</th>\n",
       "      <td>56</td>\n",
       "      <td>1</td>\n",
       "      <td>1</td>\n",
       "      <td>120</td>\n",
       "      <td>236</td>\n",
       "      <td>0</td>\n",
       "      <td>1</td>\n",
       "      <td>178</td>\n",
       "      <td>0</td>\n",
       "      <td>0.8</td>\n",
       "      <td>2</td>\n",
       "      <td>0</td>\n",
       "      <td>2</td>\n",
       "      <td>1</td>\n",
       "    </tr>\n",
       "    <tr>\n",
       "      <th>4</th>\n",
       "      <td>57</td>\n",
       "      <td>0</td>\n",
       "      <td>0</td>\n",
       "      <td>120</td>\n",
       "      <td>354</td>\n",
       "      <td>0</td>\n",
       "      <td>1</td>\n",
       "      <td>163</td>\n",
       "      <td>1</td>\n",
       "      <td>0.6</td>\n",
       "      <td>2</td>\n",
       "      <td>0</td>\n",
       "      <td>2</td>\n",
       "      <td>1</td>\n",
       "    </tr>\n",
       "  </tbody>\n",
       "</table>\n",
       "</div>"
      ],
      "text/plain": [
       "   age  sex  cp  trestbps  chol  fbs  restecg  thalach  exang  oldpeak  slope  \\\n",
       "0   63    1   3       145   233    1        0      150      0      2.3      0   \n",
       "1   37    1   2       130   250    0        1      187      0      3.5      0   \n",
       "2   41    0   1       130   204    0        0      172      0      1.4      2   \n",
       "3   56    1   1       120   236    0        1      178      0      0.8      2   \n",
       "4   57    0   0       120   354    0        1      163      1      0.6      2   \n",
       "\n",
       "   ca  thal  target  \n",
       "0   0     1       1  \n",
       "1   0     2       1  \n",
       "2   0     2       1  \n",
       "3   0     2       1  \n",
       "4   0     2       1  "
      ]
     },
     "execution_count": 13,
     "metadata": {},
     "output_type": "execute_result"
    }
   ],
   "source": [
    "df.head()"
   ]
  },
  {
   "cell_type": "markdown",
   "id": "48ed2268-28e4-4607-a537-6031e47ec498",
   "metadata": {},
   "source": [
    "### spliting the target values from the rest "
   ]
  },
  {
   "cell_type": "code",
   "execution_count": 14,
   "id": "d8dc9ac8-8ce9-49b8-99db-4ba47bfbbf9a",
   "metadata": {},
   "outputs": [],
   "source": [
    "X = df.drop(\"target\", axis=1)\n",
    "y = df.target.values"
   ]
  },
  {
   "cell_type": "code",
   "execution_count": 15,
   "id": "e4860b19-acb6-4162-8ddb-14bb82966b93",
   "metadata": {},
   "outputs": [
    {
     "data": {
      "text/html": [
       "<div>\n",
       "<style scoped>\n",
       "    .dataframe tbody tr th:only-of-type {\n",
       "        vertical-align: middle;\n",
       "    }\n",
       "\n",
       "    .dataframe tbody tr th {\n",
       "        vertical-align: top;\n",
       "    }\n",
       "\n",
       "    .dataframe thead th {\n",
       "        text-align: right;\n",
       "    }\n",
       "</style>\n",
       "<table border=\"1\" class=\"dataframe\">\n",
       "  <thead>\n",
       "    <tr style=\"text-align: right;\">\n",
       "      <th></th>\n",
       "      <th>age</th>\n",
       "      <th>sex</th>\n",
       "      <th>cp</th>\n",
       "      <th>trestbps</th>\n",
       "      <th>chol</th>\n",
       "      <th>fbs</th>\n",
       "      <th>restecg</th>\n",
       "      <th>thalach</th>\n",
       "      <th>exang</th>\n",
       "      <th>oldpeak</th>\n",
       "      <th>slope</th>\n",
       "      <th>ca</th>\n",
       "      <th>thal</th>\n",
       "    </tr>\n",
       "  </thead>\n",
       "  <tbody>\n",
       "    <tr>\n",
       "      <th>0</th>\n",
       "      <td>63</td>\n",
       "      <td>1</td>\n",
       "      <td>3</td>\n",
       "      <td>145</td>\n",
       "      <td>233</td>\n",
       "      <td>1</td>\n",
       "      <td>0</td>\n",
       "      <td>150</td>\n",
       "      <td>0</td>\n",
       "      <td>2.3</td>\n",
       "      <td>0</td>\n",
       "      <td>0</td>\n",
       "      <td>1</td>\n",
       "    </tr>\n",
       "    <tr>\n",
       "      <th>1</th>\n",
       "      <td>37</td>\n",
       "      <td>1</td>\n",
       "      <td>2</td>\n",
       "      <td>130</td>\n",
       "      <td>250</td>\n",
       "      <td>0</td>\n",
       "      <td>1</td>\n",
       "      <td>187</td>\n",
       "      <td>0</td>\n",
       "      <td>3.5</td>\n",
       "      <td>0</td>\n",
       "      <td>0</td>\n",
       "      <td>2</td>\n",
       "    </tr>\n",
       "    <tr>\n",
       "      <th>2</th>\n",
       "      <td>41</td>\n",
       "      <td>0</td>\n",
       "      <td>1</td>\n",
       "      <td>130</td>\n",
       "      <td>204</td>\n",
       "      <td>0</td>\n",
       "      <td>0</td>\n",
       "      <td>172</td>\n",
       "      <td>0</td>\n",
       "      <td>1.4</td>\n",
       "      <td>2</td>\n",
       "      <td>0</td>\n",
       "      <td>2</td>\n",
       "    </tr>\n",
       "    <tr>\n",
       "      <th>3</th>\n",
       "      <td>56</td>\n",
       "      <td>1</td>\n",
       "      <td>1</td>\n",
       "      <td>120</td>\n",
       "      <td>236</td>\n",
       "      <td>0</td>\n",
       "      <td>1</td>\n",
       "      <td>178</td>\n",
       "      <td>0</td>\n",
       "      <td>0.8</td>\n",
       "      <td>2</td>\n",
       "      <td>0</td>\n",
       "      <td>2</td>\n",
       "    </tr>\n",
       "    <tr>\n",
       "      <th>4</th>\n",
       "      <td>57</td>\n",
       "      <td>0</td>\n",
       "      <td>0</td>\n",
       "      <td>120</td>\n",
       "      <td>354</td>\n",
       "      <td>0</td>\n",
       "      <td>1</td>\n",
       "      <td>163</td>\n",
       "      <td>1</td>\n",
       "      <td>0.6</td>\n",
       "      <td>2</td>\n",
       "      <td>0</td>\n",
       "      <td>2</td>\n",
       "    </tr>\n",
       "  </tbody>\n",
       "</table>\n",
       "</div>"
      ],
      "text/plain": [
       "   age  sex  cp  trestbps  chol  fbs  restecg  thalach  exang  oldpeak  slope  \\\n",
       "0   63    1   3       145   233    1        0      150      0      2.3      0   \n",
       "1   37    1   2       130   250    0        1      187      0      3.5      0   \n",
       "2   41    0   1       130   204    0        0      172      0      1.4      2   \n",
       "3   56    1   1       120   236    0        1      178      0      0.8      2   \n",
       "4   57    0   0       120   354    0        1      163      1      0.6      2   \n",
       "\n",
       "   ca  thal  \n",
       "0   0     1  \n",
       "1   0     2  \n",
       "2   0     2  \n",
       "3   0     2  \n",
       "4   0     2  "
      ]
     },
     "execution_count": 15,
     "metadata": {},
     "output_type": "execute_result"
    }
   ],
   "source": [
    "X.head()"
   ]
  },
  {
   "cell_type": "code",
   "execution_count": 16,
   "id": "2e63ed18-c011-4998-be0e-c431e6469bb5",
   "metadata": {},
   "outputs": [
    {
     "data": {
      "text/plain": [
       "array([1, 1, 1, 1, 1, 1, 1, 1, 1, 1, 1, 1, 1, 1, 1, 1, 1, 1, 1, 1, 1, 1,\n",
       "       1, 1, 1, 1, 1, 1, 1, 1, 1, 1, 1, 1, 1, 1, 1, 1, 1, 1, 1, 1, 1, 1,\n",
       "       1, 1, 1, 1, 1, 1, 1, 1, 1, 1, 1, 1, 1, 1, 1, 1, 1, 1, 1, 1, 1, 1,\n",
       "       1, 1, 1, 1, 1, 1, 1, 1, 1, 1, 1, 1, 1, 1, 1, 1, 1, 1, 1, 1, 1, 1,\n",
       "       1, 1, 1, 1, 1, 1, 1, 1, 1, 1, 1, 1, 1, 1, 1, 1, 1, 1, 1, 1, 1, 1,\n",
       "       1, 1, 1, 1, 1, 1, 1, 1, 1, 1, 1, 1, 1, 1, 1, 1, 1, 1, 1, 1, 1, 1,\n",
       "       1, 1, 1, 1, 1, 1, 1, 1, 1, 1, 1, 1, 1, 1, 1, 1, 1, 1, 1, 1, 1, 1,\n",
       "       1, 1, 1, 1, 1, 1, 1, 1, 1, 1, 1, 0, 0, 0, 0, 0, 0, 0, 0, 0, 0, 0,\n",
       "       0, 0, 0, 0, 0, 0, 0, 0, 0, 0, 0, 0, 0, 0, 0, 0, 0, 0, 0, 0, 0, 0,\n",
       "       0, 0, 0, 0, 0, 0, 0, 0, 0, 0, 0, 0, 0, 0, 0, 0, 0, 0, 0, 0, 0, 0,\n",
       "       0, 0, 0, 0, 0, 0, 0, 0, 0, 0, 0, 0, 0, 0, 0, 0, 0, 0, 0, 0, 0, 0,\n",
       "       0, 0, 0, 0, 0, 0, 0, 0, 0, 0, 0, 0, 0, 0, 0, 0, 0, 0, 0, 0, 0, 0,\n",
       "       0, 0, 0, 0, 0, 0, 0, 0, 0, 0, 0, 0, 0, 0, 0, 0, 0, 0, 0, 0, 0, 0,\n",
       "       0, 0, 0, 0, 0, 0, 0, 0, 0, 0, 0, 0, 0, 0, 0, 0, 0], dtype=int64)"
      ]
     },
     "execution_count": 16,
     "metadata": {},
     "output_type": "execute_result"
    }
   ],
   "source": [
    "y"
   ]
  },
  {
   "cell_type": "markdown",
   "id": "1002594a-db55-463c-a207-52f347047f11",
   "metadata": {},
   "source": [
    "### Training and test split"
   ]
  },
  {
   "cell_type": "code",
   "execution_count": 17,
   "id": "7ba83f13-869d-4c26-9ec9-296a7306b925",
   "metadata": {},
   "outputs": [],
   "source": [
    "# Random seed for reproducibility\n",
    "np.random.seed(99)\n",
    "\n",
    "# Split into train & test set\n",
    "X_train, X_test, y_train, y_test = train_test_split(X, # independent variables \n",
    "                                                    y, # dependent variable\n",
    "                                                    test_size = 0.2) # percentage of data to use for test set\n"
   ]
  },
  {
   "cell_type": "code",
   "execution_count": 18,
   "id": "9026cfcb-adbc-43e5-b442-a06b4da056c1",
   "metadata": {},
   "outputs": [
    {
     "data": {
      "text/html": [
       "<div>\n",
       "<style scoped>\n",
       "    .dataframe tbody tr th:only-of-type {\n",
       "        vertical-align: middle;\n",
       "    }\n",
       "\n",
       "    .dataframe tbody tr th {\n",
       "        vertical-align: top;\n",
       "    }\n",
       "\n",
       "    .dataframe thead th {\n",
       "        text-align: right;\n",
       "    }\n",
       "</style>\n",
       "<table border=\"1\" class=\"dataframe\">\n",
       "  <thead>\n",
       "    <tr style=\"text-align: right;\">\n",
       "      <th></th>\n",
       "      <th>age</th>\n",
       "      <th>sex</th>\n",
       "      <th>cp</th>\n",
       "      <th>trestbps</th>\n",
       "      <th>chol</th>\n",
       "      <th>fbs</th>\n",
       "      <th>restecg</th>\n",
       "      <th>thalach</th>\n",
       "      <th>exang</th>\n",
       "      <th>oldpeak</th>\n",
       "      <th>slope</th>\n",
       "      <th>ca</th>\n",
       "      <th>thal</th>\n",
       "    </tr>\n",
       "  </thead>\n",
       "  <tbody>\n",
       "    <tr>\n",
       "      <th>103</th>\n",
       "      <td>42</td>\n",
       "      <td>1</td>\n",
       "      <td>2</td>\n",
       "      <td>120</td>\n",
       "      <td>240</td>\n",
       "      <td>1</td>\n",
       "      <td>1</td>\n",
       "      <td>194</td>\n",
       "      <td>0</td>\n",
       "      <td>0.8</td>\n",
       "      <td>0</td>\n",
       "      <td>0</td>\n",
       "      <td>3</td>\n",
       "    </tr>\n",
       "    <tr>\n",
       "      <th>136</th>\n",
       "      <td>60</td>\n",
       "      <td>0</td>\n",
       "      <td>2</td>\n",
       "      <td>120</td>\n",
       "      <td>178</td>\n",
       "      <td>1</td>\n",
       "      <td>1</td>\n",
       "      <td>96</td>\n",
       "      <td>0</td>\n",
       "      <td>0.0</td>\n",
       "      <td>2</td>\n",
       "      <td>0</td>\n",
       "      <td>2</td>\n",
       "    </tr>\n",
       "    <tr>\n",
       "      <th>164</th>\n",
       "      <td>38</td>\n",
       "      <td>1</td>\n",
       "      <td>2</td>\n",
       "      <td>138</td>\n",
       "      <td>175</td>\n",
       "      <td>0</td>\n",
       "      <td>1</td>\n",
       "      <td>173</td>\n",
       "      <td>0</td>\n",
       "      <td>0.0</td>\n",
       "      <td>2</td>\n",
       "      <td>4</td>\n",
       "      <td>2</td>\n",
       "    </tr>\n",
       "    <tr>\n",
       "      <th>141</th>\n",
       "      <td>43</td>\n",
       "      <td>1</td>\n",
       "      <td>0</td>\n",
       "      <td>115</td>\n",
       "      <td>303</td>\n",
       "      <td>0</td>\n",
       "      <td>1</td>\n",
       "      <td>181</td>\n",
       "      <td>0</td>\n",
       "      <td>1.2</td>\n",
       "      <td>1</td>\n",
       "      <td>0</td>\n",
       "      <td>2</td>\n",
       "    </tr>\n",
       "    <tr>\n",
       "      <th>124</th>\n",
       "      <td>39</td>\n",
       "      <td>0</td>\n",
       "      <td>2</td>\n",
       "      <td>94</td>\n",
       "      <td>199</td>\n",
       "      <td>0</td>\n",
       "      <td>1</td>\n",
       "      <td>179</td>\n",
       "      <td>0</td>\n",
       "      <td>0.0</td>\n",
       "      <td>2</td>\n",
       "      <td>0</td>\n",
       "      <td>2</td>\n",
       "    </tr>\n",
       "  </tbody>\n",
       "</table>\n",
       "</div>"
      ],
      "text/plain": [
       "     age  sex  cp  trestbps  chol  fbs  restecg  thalach  exang  oldpeak  \\\n",
       "103   42    1   2       120   240    1        1      194      0      0.8   \n",
       "136   60    0   2       120   178    1        1       96      0      0.0   \n",
       "164   38    1   2       138   175    0        1      173      0      0.0   \n",
       "141   43    1   0       115   303    0        1      181      0      1.2   \n",
       "124   39    0   2        94   199    0        1      179      0      0.0   \n",
       "\n",
       "     slope  ca  thal  \n",
       "103      0   0     3  \n",
       "136      2   0     2  \n",
       "164      2   4     2  \n",
       "141      1   0     2  \n",
       "124      2   0     2  "
      ]
     },
     "execution_count": 18,
     "metadata": {},
     "output_type": "execute_result"
    }
   ],
   "source": [
    "X_train.head()"
   ]
  },
  {
   "cell_type": "code",
   "execution_count": 19,
   "id": "796db974-c239-43fb-b468-812baa45eeaf",
   "metadata": {},
   "outputs": [
    {
     "data": {
      "text/plain": [
       "(array([1, 1, 1, 1, 1, 0, 0, 1, 0, 0, 1, 1, 0, 1, 0, 0, 1, 1, 0, 1, 1, 1,\n",
       "        1, 1, 1, 1, 1, 1, 0, 1, 0, 0, 1, 1, 0, 0, 1, 1, 0, 0, 0, 0, 0, 0,\n",
       "        1, 0, 0, 1, 1, 1, 0, 0, 0, 0, 1, 1, 1, 0, 1, 0, 1, 1, 0, 0, 1, 1,\n",
       "        0, 1, 1, 0, 0, 1, 1, 1, 1, 0, 0, 1, 1, 1, 0, 0, 1, 1, 0, 0, 1, 0,\n",
       "        1, 1, 1, 1, 1, 1, 0, 1, 0, 0, 0, 1, 0, 0, 0, 1, 1, 1, 0, 0, 1, 1,\n",
       "        1, 1, 0, 1, 1, 1, 0, 0, 1, 0, 0, 1, 0, 0, 1, 1, 1, 1, 0, 1, 0, 0,\n",
       "        0, 0, 1, 0, 0, 1, 1, 1, 0, 0, 0, 1, 1, 1, 0, 0, 1, 1, 1, 0, 1, 1,\n",
       "        1, 0, 0, 1, 1, 0, 1, 1, 1, 1, 0, 1, 1, 1, 1, 1, 1, 1, 1, 0, 0, 0,\n",
       "        1, 0, 0, 0, 0, 0, 1, 1, 0, 0, 0, 0, 0, 1, 0, 0, 1, 1, 1, 1, 1, 0,\n",
       "        1, 1, 0, 0, 0, 0, 0, 0, 1, 0, 0, 1, 1, 1, 1, 0, 0, 0, 0, 1, 0, 1,\n",
       "        0, 1, 1, 0, 1, 0, 0, 1, 0, 0, 1, 0, 0, 0, 1, 0, 0, 0, 0, 0, 1, 1],\n",
       "       dtype=int64),\n",
       " 242)"
      ]
     },
     "execution_count": 19,
     "metadata": {},
     "output_type": "execute_result"
    }
   ],
   "source": [
    "y_train, len(y_train)"
   ]
  },
  {
   "cell_type": "markdown",
   "id": "28fcea81-96c1-4978-940e-a997696ad9a4",
   "metadata": {},
   "source": [
    "Okay, now we are using 242 samples to train on"
   ]
  },
  {
   "cell_type": "markdown",
   "id": "2132de1c-d929-4369-a064-a9346cd5dc73",
   "metadata": {},
   "source": [
    "## Models\n",
    "\n",
    "1. Logistic Regression - `LogisticRegression()`\n",
    "2. K-Nearest Neighbors - `KNeighboursClassifier()`\n",
    "3. RandomForest - `RandomForestClassifier()`\n",
    "4. Support Vector Machine - `SVC()`\n",
    "5. Naive Bayes - `GaussianNB()`\n",
    "6. XGBoost - `XGBClassifier()`\n",
    "7. LightGBM - `LGBMClassifier()`\n",
    "8. CatBoost - `CatBoostClassifier()`"
   ]
  },
  {
   "cell_type": "code",
   "execution_count": 20,
   "id": "050d6e24-d781-4b7b-8d62-6889d1dc2621",
   "metadata": {},
   "outputs": [],
   "source": [
    "# Put models in a dictionary\n",
    "models = {\"KNN\": KNeighborsClassifier(),\n",
    "          \"Logistic Regression\": LogisticRegression(), \n",
    "          \"Random Forest\": RandomForestClassifier(),\n",
    "          \"Support Vector Machine\":SVC(),\n",
    "          \"Naive Bayes \":GaussianNB(),\n",
    "          \"XGBoost\":XGBClassifier(\n",
    "                  max_depth=6,\n",
    "                  learning_rate=0.1,\n",
    "                  n_estimators=50,\n",
    "                  subsample=0.8,\n",
    "                  colsample_bytree=0.8,\n",
    "                  min_child_weight=1\n",
    "          ),\n",
    "          \"LightGBM\":LGBMClassifier(\n",
    "                  num_leaves=31,\n",
    "                  learning_rate=0.05,\n",
    "                  n_estimators=100,\n",
    "                  max_depth=-1,\n",
    "                  min_data_in_leaf=20,\n",
    "                  feature_fraction=0.9,\n",
    "                  bagging_fraction=0.8\n",
    "          ),\n",
    "          \"CatBoost\":CatBoostClassifier(\n",
    "              iterations=500,\n",
    "              learning_rate=0.03,\n",
    "              depth=6,\n",
    "              l2_leaf_reg=3,\n",
    "              random_strength=1,\n",
    "              bagging_temperature=1\n",
    "          )\n",
    "         }\n",
    "\n",
    "# Create function to fit and score models\n",
    "def fit_and_score(models, X_train, X_test, y_train, y_test):\n",
    "    \"\"\"\n",
    "    Fits and evaluates given machine learning models.\n",
    "    models : a dict of different machine learning models\n",
    "    X_train : training data\n",
    "    X_test : testing data\n",
    "    y_train : labels assosciated with training data\n",
    "    y_test : labels assosciated with test data\n",
    "    \"\"\"\n",
    "    # Random seed for reproducible results\n",
    "    np.random.seed(99)\n",
    "    # Make a list to keep model scores\n",
    "    model_scores = {}\n",
    "    # Loop through models\n",
    "    for name, model in models.items():\n",
    "        # Fit the model to the data\n",
    "        model.fit(X_train, y_train)\n",
    "        # Evaluate the model and append its score to model_scores\n",
    "        model_scores[name] = model.score(X_test, y_test)\n",
    "    return model_scores"
   ]
  },
  {
   "cell_type": "code",
   "execution_count": 21,
   "id": "74b891a0-16a6-4474-86b0-810625d9539a",
   "metadata": {
    "scrolled": true
   },
   "outputs": [
    {
     "name": "stderr",
     "output_type": "stream",
     "text": [
      "C:\\Users\\ASUS\\Desktop\\sample_project\\env\\Lib\\site-packages\\sklearn\\linear_model\\_logistic.py:469: ConvergenceWarning: lbfgs failed to converge (status=1):\n",
      "STOP: TOTAL NO. of ITERATIONS REACHED LIMIT.\n",
      "\n",
      "Increase the number of iterations (max_iter) or scale the data as shown in:\n",
      "    https://scikit-learn.org/stable/modules/preprocessing.html\n",
      "Please also refer to the documentation for alternative solver options:\n",
      "    https://scikit-learn.org/stable/modules/linear_model.html#logistic-regression\n",
      "  n_iter_i = _check_optimize_result(\n"
     ]
    },
    {
     "name": "stdout",
     "output_type": "stream",
     "text": [
      "[LightGBM] [Warning] min_data_in_leaf is set=20, min_child_samples=20 will be ignored. Current value: min_data_in_leaf=20\n",
      "[LightGBM] [Warning] feature_fraction is set=0.9, colsample_bytree=1.0 will be ignored. Current value: feature_fraction=0.9\n",
      "[LightGBM] [Warning] bagging_fraction is set=0.8, subsample=1.0 will be ignored. Current value: bagging_fraction=0.8\n",
      "[LightGBM] [Warning] min_data_in_leaf is set=20, min_child_samples=20 will be ignored. Current value: min_data_in_leaf=20\n",
      "[LightGBM] [Warning] feature_fraction is set=0.9, colsample_bytree=1.0 will be ignored. Current value: feature_fraction=0.9\n",
      "[LightGBM] [Warning] bagging_fraction is set=0.8, subsample=1.0 will be ignored. Current value: bagging_fraction=0.8\n",
      "[LightGBM] [Info] Number of positive: 127, number of negative: 115\n",
      "[LightGBM] [Info] Auto-choosing row-wise multi-threading, the overhead of testing was 0.000797 seconds.\n",
      "You can set `force_row_wise=true` to remove the overhead.\n",
      "And if memory is not enough, you can set `force_col_wise=true`.\n",
      "[LightGBM] [Info] Total Bins 243\n",
      "[LightGBM] [Info] Number of data points in the train set: 242, number of used features: 13\n",
      "[LightGBM] [Info] [binary:BoostFromScore]: pavg=0.524793 -> initscore=0.099255\n",
      "[LightGBM] [Info] Start training from score 0.099255\n",
      "[LightGBM] [Warning] No further splits with positive gain, best gain: -inf\n",
      "[LightGBM] [Warning] No further splits with positive gain, best gain: -inf\n",
      "[LightGBM] [Warning] No further splits with positive gain, best gain: -inf\n",
      "[LightGBM] [Warning] No further splits with positive gain, best gain: -inf\n",
      "[LightGBM] [Warning] No further splits with positive gain, best gain: -inf\n",
      "[LightGBM] [Warning] No further splits with positive gain, best gain: -inf\n",
      "[LightGBM] [Warning] No further splits with positive gain, best gain: -inf\n",
      "[LightGBM] [Warning] No further splits with positive gain, best gain: -inf\n",
      "[LightGBM] [Warning] No further splits with positive gain, best gain: -inf\n",
      "[LightGBM] [Warning] No further splits with positive gain, best gain: -inf\n",
      "[LightGBM] [Warning] No further splits with positive gain, best gain: -inf\n",
      "[LightGBM] [Warning] No further splits with positive gain, best gain: -inf\n",
      "[LightGBM] [Warning] No further splits with positive gain, best gain: -inf\n",
      "[LightGBM] [Warning] No further splits with positive gain, best gain: -inf\n",
      "[LightGBM] [Warning] No further splits with positive gain, best gain: -inf\n",
      "[LightGBM] [Warning] No further splits with positive gain, best gain: -inf\n",
      "[LightGBM] [Warning] No further splits with positive gain, best gain: -inf\n",
      "[LightGBM] [Warning] No further splits with positive gain, best gain: -inf\n",
      "[LightGBM] [Warning] No further splits with positive gain, best gain: -inf\n",
      "[LightGBM] [Warning] No further splits with positive gain, best gain: -inf\n",
      "[LightGBM] [Warning] No further splits with positive gain, best gain: -inf\n",
      "[LightGBM] [Warning] No further splits with positive gain, best gain: -inf\n",
      "[LightGBM] [Warning] No further splits with positive gain, best gain: -inf\n",
      "[LightGBM] [Warning] No further splits with positive gain, best gain: -inf\n",
      "[LightGBM] [Warning] No further splits with positive gain, best gain: -inf\n",
      "[LightGBM] [Warning] No further splits with positive gain, best gain: -inf\n",
      "[LightGBM] [Warning] No further splits with positive gain, best gain: -inf\n",
      "[LightGBM] [Warning] No further splits with positive gain, best gain: -inf\n",
      "[LightGBM] [Warning] No further splits with positive gain, best gain: -inf\n",
      "[LightGBM] [Warning] No further splits with positive gain, best gain: -inf\n",
      "[LightGBM] [Warning] No further splits with positive gain, best gain: -inf\n",
      "[LightGBM] [Warning] No further splits with positive gain, best gain: -inf\n",
      "[LightGBM] [Warning] No further splits with positive gain, best gain: -inf\n",
      "[LightGBM] [Warning] No further splits with positive gain, best gain: -inf\n",
      "[LightGBM] [Warning] No further splits with positive gain, best gain: -inf\n",
      "[LightGBM] [Warning] No further splits with positive gain, best gain: -inf\n",
      "[LightGBM] [Warning] No further splits with positive gain, best gain: -inf\n",
      "[LightGBM] [Warning] No further splits with positive gain, best gain: -inf\n",
      "[LightGBM] [Warning] No further splits with positive gain, best gain: -inf\n",
      "[LightGBM] [Warning] No further splits with positive gain, best gain: -inf\n",
      "[LightGBM] [Warning] No further splits with positive gain, best gain: -inf\n",
      "[LightGBM] [Warning] No further splits with positive gain, best gain: -inf\n",
      "[LightGBM] [Warning] No further splits with positive gain, best gain: -inf\n",
      "[LightGBM] [Warning] No further splits with positive gain, best gain: -inf\n",
      "[LightGBM] [Warning] No further splits with positive gain, best gain: -inf\n",
      "[LightGBM] [Warning] No further splits with positive gain, best gain: -inf\n",
      "[LightGBM] [Warning] No further splits with positive gain, best gain: -inf\n",
      "[LightGBM] [Warning] No further splits with positive gain, best gain: -inf\n",
      "[LightGBM] [Warning] No further splits with positive gain, best gain: -inf\n",
      "[LightGBM] [Warning] No further splits with positive gain, best gain: -inf\n",
      "[LightGBM] [Warning] No further splits with positive gain, best gain: -inf\n",
      "[LightGBM] [Warning] No further splits with positive gain, best gain: -inf\n",
      "[LightGBM] [Warning] No further splits with positive gain, best gain: -inf\n",
      "[LightGBM] [Warning] No further splits with positive gain, best gain: -inf\n",
      "[LightGBM] [Warning] No further splits with positive gain, best gain: -inf\n",
      "[LightGBM] [Warning] No further splits with positive gain, best gain: -inf\n",
      "[LightGBM] [Warning] No further splits with positive gain, best gain: -inf\n",
      "[LightGBM] [Warning] No further splits with positive gain, best gain: -inf\n",
      "[LightGBM] [Warning] No further splits with positive gain, best gain: -inf\n",
      "[LightGBM] [Warning] No further splits with positive gain, best gain: -inf\n",
      "[LightGBM] [Warning] No further splits with positive gain, best gain: -inf\n",
      "[LightGBM] [Warning] No further splits with positive gain, best gain: -inf\n",
      "[LightGBM] [Warning] No further splits with positive gain, best gain: -inf\n",
      "[LightGBM] [Warning] No further splits with positive gain, best gain: -inf\n",
      "[LightGBM] [Warning] No further splits with positive gain, best gain: -inf\n",
      "[LightGBM] [Warning] No further splits with positive gain, best gain: -inf\n",
      "[LightGBM] [Warning] No further splits with positive gain, best gain: -inf\n",
      "[LightGBM] [Warning] No further splits with positive gain, best gain: -inf\n",
      "[LightGBM] [Warning] No further splits with positive gain, best gain: -inf\n",
      "[LightGBM] [Warning] No further splits with positive gain, best gain: -inf\n",
      "[LightGBM] [Warning] No further splits with positive gain, best gain: -inf\n",
      "[LightGBM] [Warning] No further splits with positive gain, best gain: -inf\n",
      "[LightGBM] [Warning] No further splits with positive gain, best gain: -inf\n",
      "[LightGBM] [Warning] No further splits with positive gain, best gain: -inf\n",
      "[LightGBM] [Warning] No further splits with positive gain, best gain: -inf\n",
      "[LightGBM] [Warning] No further splits with positive gain, best gain: -inf\n",
      "[LightGBM] [Warning] No further splits with positive gain, best gain: -inf\n",
      "[LightGBM] [Warning] No further splits with positive gain, best gain: -inf\n",
      "[LightGBM] [Warning] No further splits with positive gain, best gain: -inf\n",
      "[LightGBM] [Warning] No further splits with positive gain, best gain: -inf\n",
      "[LightGBM] [Warning] No further splits with positive gain, best gain: -inf\n",
      "[LightGBM] [Warning] No further splits with positive gain, best gain: -inf\n",
      "[LightGBM] [Warning] No further splits with positive gain, best gain: -inf\n",
      "[LightGBM] [Warning] No further splits with positive gain, best gain: -inf\n",
      "[LightGBM] [Warning] No further splits with positive gain, best gain: -inf\n",
      "[LightGBM] [Warning] No further splits with positive gain, best gain: -inf\n",
      "[LightGBM] [Warning] No further splits with positive gain, best gain: -inf\n",
      "[LightGBM] [Warning] No further splits with positive gain, best gain: -inf\n",
      "[LightGBM] [Warning] No further splits with positive gain, best gain: -inf\n",
      "[LightGBM] [Warning] No further splits with positive gain, best gain: -inf\n",
      "[LightGBM] [Warning] No further splits with positive gain, best gain: -inf\n",
      "[LightGBM] [Warning] No further splits with positive gain, best gain: -inf\n",
      "[LightGBM] [Warning] No further splits with positive gain, best gain: -inf\n",
      "[LightGBM] [Warning] No further splits with positive gain, best gain: -inf\n",
      "[LightGBM] [Warning] No further splits with positive gain, best gain: -inf\n",
      "[LightGBM] [Warning] No further splits with positive gain, best gain: -inf\n",
      "[LightGBM] [Warning] No further splits with positive gain, best gain: -inf\n",
      "[LightGBM] [Warning] No further splits with positive gain, best gain: -inf\n",
      "[LightGBM] [Warning] No further splits with positive gain, best gain: -inf\n",
      "[LightGBM] [Warning] No further splits with positive gain, best gain: -inf\n",
      "[LightGBM] [Warning] min_data_in_leaf is set=20, min_child_samples=20 will be ignored. Current value: min_data_in_leaf=20\n",
      "[LightGBM] [Warning] feature_fraction is set=0.9, colsample_bytree=1.0 will be ignored. Current value: feature_fraction=0.9\n",
      "[LightGBM] [Warning] bagging_fraction is set=0.8, subsample=1.0 will be ignored. Current value: bagging_fraction=0.8\n",
      "0:\tlearn: 0.6692274\ttotal: 105ms\tremaining: 52.4s\n",
      "1:\tlearn: 0.6470448\ttotal: 107ms\tremaining: 26.6s\n",
      "2:\tlearn: 0.6295000\ttotal: 108ms\tremaining: 17.9s\n",
      "3:\tlearn: 0.6085073\ttotal: 109ms\tremaining: 13.6s\n",
      "4:\tlearn: 0.5951741\ttotal: 111ms\tremaining: 11s\n",
      "5:\tlearn: 0.5751773\ttotal: 112ms\tremaining: 9.23s\n",
      "6:\tlearn: 0.5633702\ttotal: 114ms\tremaining: 8s\n",
      "7:\tlearn: 0.5483418\ttotal: 115ms\tremaining: 7.07s\n",
      "8:\tlearn: 0.5348701\ttotal: 116ms\tremaining: 6.33s\n",
      "9:\tlearn: 0.5216709\ttotal: 117ms\tremaining: 5.74s\n",
      "10:\tlearn: 0.5090102\ttotal: 118ms\tremaining: 5.26s\n",
      "11:\tlearn: 0.4997460\ttotal: 119ms\tremaining: 4.85s\n",
      "12:\tlearn: 0.4914735\ttotal: 120ms\tremaining: 4.51s\n",
      "13:\tlearn: 0.4792647\ttotal: 122ms\tremaining: 4.22s\n",
      "14:\tlearn: 0.4698604\ttotal: 123ms\tremaining: 3.97s\n",
      "15:\tlearn: 0.4577249\ttotal: 124ms\tremaining: 3.74s\n",
      "16:\tlearn: 0.4506464\ttotal: 125ms\tremaining: 3.55s\n",
      "17:\tlearn: 0.4440650\ttotal: 126ms\tremaining: 3.38s\n",
      "18:\tlearn: 0.4372068\ttotal: 127ms\tremaining: 3.22s\n",
      "19:\tlearn: 0.4292380\ttotal: 128ms\tremaining: 3.08s\n",
      "20:\tlearn: 0.4231007\ttotal: 129ms\tremaining: 2.95s\n",
      "21:\tlearn: 0.4182263\ttotal: 130ms\tremaining: 2.83s\n",
      "22:\tlearn: 0.4098483\ttotal: 131ms\tremaining: 2.73s\n",
      "23:\tlearn: 0.4010132\ttotal: 133ms\tremaining: 2.63s\n",
      "24:\tlearn: 0.3946405\ttotal: 134ms\tremaining: 2.54s\n",
      "25:\tlearn: 0.3867556\ttotal: 135ms\tremaining: 2.46s\n",
      "26:\tlearn: 0.3792683\ttotal: 136ms\tremaining: 2.38s\n",
      "27:\tlearn: 0.3730195\ttotal: 137ms\tremaining: 2.31s\n",
      "28:\tlearn: 0.3658971\ttotal: 138ms\tremaining: 2.25s\n",
      "29:\tlearn: 0.3585521\ttotal: 139ms\tremaining: 2.18s\n",
      "30:\tlearn: 0.3549558\ttotal: 141ms\tremaining: 2.13s\n",
      "31:\tlearn: 0.3490993\ttotal: 142ms\tremaining: 2.07s\n",
      "32:\tlearn: 0.3452633\ttotal: 143ms\tremaining: 2.02s\n",
      "33:\tlearn: 0.3420901\ttotal: 144ms\tremaining: 1.97s\n",
      "34:\tlearn: 0.3349498\ttotal: 145ms\tremaining: 1.93s\n",
      "35:\tlearn: 0.3311066\ttotal: 146ms\tremaining: 1.88s\n",
      "36:\tlearn: 0.3269423\ttotal: 147ms\tremaining: 1.84s\n",
      "37:\tlearn: 0.3223041\ttotal: 148ms\tremaining: 1.8s\n",
      "38:\tlearn: 0.3217148\ttotal: 149ms\tremaining: 1.76s\n",
      "39:\tlearn: 0.3167244\ttotal: 150ms\tremaining: 1.73s\n",
      "40:\tlearn: 0.3120149\ttotal: 151ms\tremaining: 1.69s\n",
      "41:\tlearn: 0.3069972\ttotal: 152ms\tremaining: 1.66s\n",
      "42:\tlearn: 0.3031144\ttotal: 154ms\tremaining: 1.64s\n",
      "43:\tlearn: 0.2989255\ttotal: 155ms\tremaining: 1.61s\n",
      "44:\tlearn: 0.2941034\ttotal: 156ms\tremaining: 1.58s\n",
      "45:\tlearn: 0.2915696\ttotal: 157ms\tremaining: 1.55s\n",
      "46:\tlearn: 0.2877135\ttotal: 159ms\tremaining: 1.53s\n",
      "47:\tlearn: 0.2840261\ttotal: 160ms\tremaining: 1.5s\n",
      "48:\tlearn: 0.2805139\ttotal: 161ms\tremaining: 1.48s\n",
      "49:\tlearn: 0.2766796\ttotal: 162ms\tremaining: 1.46s\n",
      "50:\tlearn: 0.2748994\ttotal: 163ms\tremaining: 1.44s\n",
      "51:\tlearn: 0.2712755\ttotal: 165ms\tremaining: 1.42s\n",
      "52:\tlearn: 0.2672586\ttotal: 166ms\tremaining: 1.4s\n",
      "53:\tlearn: 0.2648535\ttotal: 167ms\tremaining: 1.38s\n",
      "54:\tlearn: 0.2624213\ttotal: 168ms\tremaining: 1.36s\n",
      "55:\tlearn: 0.2591428\ttotal: 169ms\tremaining: 1.34s\n",
      "56:\tlearn: 0.2572574\ttotal: 171ms\tremaining: 1.32s\n",
      "57:\tlearn: 0.2541284\ttotal: 172ms\tremaining: 1.31s\n",
      "58:\tlearn: 0.2515999\ttotal: 173ms\tremaining: 1.29s\n",
      "59:\tlearn: 0.2481773\ttotal: 174ms\tremaining: 1.28s\n",
      "60:\tlearn: 0.2454154\ttotal: 175ms\tremaining: 1.26s\n",
      "61:\tlearn: 0.2429600\ttotal: 177ms\tremaining: 1.25s\n",
      "62:\tlearn: 0.2406016\ttotal: 178ms\tremaining: 1.24s\n",
      "63:\tlearn: 0.2391764\ttotal: 179ms\tremaining: 1.22s\n",
      "64:\tlearn: 0.2365299\ttotal: 181ms\tremaining: 1.21s\n",
      "65:\tlearn: 0.2351748\ttotal: 182ms\tremaining: 1.2s\n",
      "66:\tlearn: 0.2333479\ttotal: 183ms\tremaining: 1.18s\n",
      "67:\tlearn: 0.2310211\ttotal: 184ms\tremaining: 1.17s\n",
      "68:\tlearn: 0.2284418\ttotal: 186ms\tremaining: 1.16s\n",
      "69:\tlearn: 0.2271643\ttotal: 187ms\tremaining: 1.15s\n",
      "70:\tlearn: 0.2257100\ttotal: 188ms\tremaining: 1.14s\n",
      "71:\tlearn: 0.2240052\ttotal: 190ms\tremaining: 1.13s\n",
      "72:\tlearn: 0.2208936\ttotal: 191ms\tremaining: 1.12s\n",
      "73:\tlearn: 0.2189814\ttotal: 193ms\tremaining: 1.11s\n",
      "74:\tlearn: 0.2166259\ttotal: 194ms\tremaining: 1.1s\n",
      "75:\tlearn: 0.2153295\ttotal: 195ms\tremaining: 1.09s\n",
      "76:\tlearn: 0.2134546\ttotal: 197ms\tremaining: 1.08s\n",
      "77:\tlearn: 0.2108342\ttotal: 199ms\tremaining: 1.07s\n",
      "78:\tlearn: 0.2093691\ttotal: 200ms\tremaining: 1.06s\n",
      "79:\tlearn: 0.2084052\ttotal: 201ms\tremaining: 1.06s\n",
      "80:\tlearn: 0.2063022\ttotal: 202ms\tremaining: 1.05s\n",
      "81:\tlearn: 0.2049172\ttotal: 204ms\tremaining: 1.04s\n",
      "82:\tlearn: 0.2030542\ttotal: 205ms\tremaining: 1.03s\n",
      "83:\tlearn: 0.2017038\ttotal: 206ms\tremaining: 1.02s\n",
      "84:\tlearn: 0.1993862\ttotal: 207ms\tremaining: 1.01s\n",
      "85:\tlearn: 0.1975619\ttotal: 208ms\tremaining: 1s\n",
      "86:\tlearn: 0.1965204\ttotal: 209ms\tremaining: 994ms\n",
      "87:\tlearn: 0.1948965\ttotal: 211ms\tremaining: 986ms\n",
      "88:\tlearn: 0.1933627\ttotal: 212ms\tremaining: 978ms\n",
      "89:\tlearn: 0.1919870\ttotal: 213ms\tremaining: 970ms\n",
      "90:\tlearn: 0.1904927\ttotal: 214ms\tremaining: 962ms\n",
      "91:\tlearn: 0.1889916\ttotal: 215ms\tremaining: 954ms\n",
      "92:\tlearn: 0.1875476\ttotal: 216ms\tremaining: 947ms\n",
      "93:\tlearn: 0.1856063\ttotal: 217ms\tremaining: 939ms\n",
      "94:\tlearn: 0.1840615\ttotal: 219ms\tremaining: 932ms\n",
      "95:\tlearn: 0.1828708\ttotal: 220ms\tremaining: 924ms\n",
      "96:\tlearn: 0.1822273\ttotal: 221ms\tremaining: 918ms\n",
      "97:\tlearn: 0.1806027\ttotal: 222ms\tremaining: 912ms\n",
      "98:\tlearn: 0.1792255\ttotal: 223ms\tremaining: 905ms\n",
      "99:\tlearn: 0.1774901\ttotal: 224ms\tremaining: 898ms\n",
      "100:\tlearn: 0.1762434\ttotal: 226ms\tremaining: 892ms\n",
      "101:\tlearn: 0.1748893\ttotal: 227ms\tremaining: 885ms\n",
      "102:\tlearn: 0.1738351\ttotal: 228ms\tremaining: 879ms\n",
      "103:\tlearn: 0.1716949\ttotal: 229ms\tremaining: 872ms\n",
      "104:\tlearn: 0.1707193\ttotal: 230ms\tremaining: 866ms\n",
      "105:\tlearn: 0.1692264\ttotal: 231ms\tremaining: 859ms\n",
      "106:\tlearn: 0.1671640\ttotal: 232ms\tremaining: 853ms\n",
      "107:\tlearn: 0.1663789\ttotal: 233ms\tremaining: 847ms\n",
      "108:\tlearn: 0.1652925\ttotal: 235ms\tremaining: 841ms\n",
      "109:\tlearn: 0.1647926\ttotal: 236ms\tremaining: 835ms\n",
      "110:\tlearn: 0.1642742\ttotal: 237ms\tremaining: 829ms\n",
      "111:\tlearn: 0.1631200\ttotal: 238ms\tremaining: 824ms\n",
      "112:\tlearn: 0.1624216\ttotal: 239ms\tremaining: 818ms\n",
      "113:\tlearn: 0.1618786\ttotal: 240ms\tremaining: 811ms\n",
      "114:\tlearn: 0.1610139\ttotal: 241ms\tremaining: 806ms\n",
      "115:\tlearn: 0.1600168\ttotal: 242ms\tremaining: 801ms\n",
      "116:\tlearn: 0.1590325\ttotal: 243ms\tremaining: 795ms\n",
      "117:\tlearn: 0.1578431\ttotal: 244ms\tremaining: 790ms\n",
      "118:\tlearn: 0.1569526\ttotal: 246ms\tremaining: 786ms\n",
      "119:\tlearn: 0.1549921\ttotal: 247ms\tremaining: 782ms\n",
      "120:\tlearn: 0.1536302\ttotal: 248ms\tremaining: 777ms\n",
      "121:\tlearn: 0.1534364\ttotal: 249ms\tremaining: 771ms\n",
      "122:\tlearn: 0.1524018\ttotal: 250ms\tremaining: 766ms\n",
      "123:\tlearn: 0.1510297\ttotal: 251ms\tremaining: 762ms\n",
      "124:\tlearn: 0.1493715\ttotal: 252ms\tremaining: 757ms\n",
      "125:\tlearn: 0.1485021\ttotal: 253ms\tremaining: 752ms\n",
      "126:\tlearn: 0.1477182\ttotal: 255ms\tremaining: 748ms\n",
      "127:\tlearn: 0.1457896\ttotal: 256ms\tremaining: 743ms\n",
      "128:\tlearn: 0.1444142\ttotal: 257ms\tremaining: 738ms\n",
      "129:\tlearn: 0.1436162\ttotal: 258ms\tremaining: 733ms\n",
      "130:\tlearn: 0.1422778\ttotal: 259ms\tremaining: 729ms\n",
      "131:\tlearn: 0.1419531\ttotal: 260ms\tremaining: 726ms\n",
      "132:\tlearn: 0.1411723\ttotal: 262ms\tremaining: 722ms\n",
      "133:\tlearn: 0.1404258\ttotal: 263ms\tremaining: 718ms\n",
      "134:\tlearn: 0.1397745\ttotal: 264ms\tremaining: 713ms\n",
      "135:\tlearn: 0.1387528\ttotal: 265ms\tremaining: 709ms\n",
      "136:\tlearn: 0.1378033\ttotal: 266ms\tremaining: 706ms\n",
      "137:\tlearn: 0.1369821\ttotal: 267ms\tremaining: 702ms\n",
      "138:\tlearn: 0.1358482\ttotal: 269ms\tremaining: 697ms\n",
      "139:\tlearn: 0.1345872\ttotal: 270ms\tremaining: 693ms\n",
      "140:\tlearn: 0.1345283\ttotal: 270ms\tremaining: 688ms\n",
      "141:\tlearn: 0.1344374\ttotal: 271ms\tremaining: 683ms\n",
      "142:\tlearn: 0.1335208\ttotal: 272ms\tremaining: 679ms\n",
      "143:\tlearn: 0.1327874\ttotal: 273ms\tremaining: 675ms\n",
      "144:\tlearn: 0.1317933\ttotal: 274ms\tremaining: 671ms\n",
      "145:\tlearn: 0.1304306\ttotal: 275ms\tremaining: 667ms\n",
      "146:\tlearn: 0.1293066\ttotal: 276ms\tremaining: 663ms\n",
      "147:\tlearn: 0.1281871\ttotal: 277ms\tremaining: 659ms\n",
      "148:\tlearn: 0.1277528\ttotal: 278ms\tremaining: 655ms\n",
      "149:\tlearn: 0.1267745\ttotal: 279ms\tremaining: 651ms\n",
      "150:\tlearn: 0.1258855\ttotal: 280ms\tremaining: 647ms\n",
      "151:\tlearn: 0.1247707\ttotal: 281ms\tremaining: 644ms\n",
      "152:\tlearn: 0.1237381\ttotal: 282ms\tremaining: 640ms\n",
      "153:\tlearn: 0.1228078\ttotal: 283ms\tremaining: 636ms\n",
      "154:\tlearn: 0.1224910\ttotal: 284ms\tremaining: 632ms\n",
      "155:\tlearn: 0.1219254\ttotal: 285ms\tremaining: 628ms\n",
      "156:\tlearn: 0.1208586\ttotal: 286ms\tremaining: 625ms\n",
      "157:\tlearn: 0.1198757\ttotal: 287ms\tremaining: 621ms\n",
      "158:\tlearn: 0.1190418\ttotal: 288ms\tremaining: 618ms\n",
      "159:\tlearn: 0.1179588\ttotal: 289ms\tremaining: 614ms\n",
      "160:\tlearn: 0.1174430\ttotal: 290ms\tremaining: 611ms\n",
      "161:\tlearn: 0.1169683\ttotal: 292ms\tremaining: 609ms\n",
      "162:\tlearn: 0.1160366\ttotal: 293ms\tremaining: 606ms\n",
      "163:\tlearn: 0.1153381\ttotal: 294ms\tremaining: 602ms\n",
      "164:\tlearn: 0.1143552\ttotal: 295ms\tremaining: 599ms\n",
      "165:\tlearn: 0.1139230\ttotal: 296ms\tremaining: 596ms\n",
      "166:\tlearn: 0.1130197\ttotal: 297ms\tremaining: 593ms\n",
      "167:\tlearn: 0.1119981\ttotal: 299ms\tremaining: 590ms\n",
      "168:\tlearn: 0.1109377\ttotal: 300ms\tremaining: 587ms\n",
      "169:\tlearn: 0.1104248\ttotal: 301ms\tremaining: 584ms\n",
      "170:\tlearn: 0.1095474\ttotal: 302ms\tremaining: 581ms\n",
      "171:\tlearn: 0.1090339\ttotal: 303ms\tremaining: 578ms\n",
      "172:\tlearn: 0.1085156\ttotal: 304ms\tremaining: 575ms\n",
      "173:\tlearn: 0.1076458\ttotal: 305ms\tremaining: 572ms\n",
      "174:\tlearn: 0.1066924\ttotal: 306ms\tremaining: 569ms\n",
      "175:\tlearn: 0.1064095\ttotal: 307ms\tremaining: 566ms\n",
      "176:\tlearn: 0.1061868\ttotal: 308ms\tremaining: 562ms\n",
      "177:\tlearn: 0.1050778\ttotal: 309ms\tremaining: 559ms\n",
      "178:\tlearn: 0.1041101\ttotal: 310ms\tremaining: 556ms\n",
      "179:\tlearn: 0.1036317\ttotal: 311ms\tremaining: 553ms\n",
      "180:\tlearn: 0.1028523\ttotal: 312ms\tremaining: 550ms\n",
      "181:\tlearn: 0.1024635\ttotal: 313ms\tremaining: 547ms\n",
      "182:\tlearn: 0.1018763\ttotal: 314ms\tremaining: 544ms\n",
      "183:\tlearn: 0.1013202\ttotal: 315ms\tremaining: 541ms\n",
      "184:\tlearn: 0.1007264\ttotal: 316ms\tremaining: 539ms\n",
      "185:\tlearn: 0.1003261\ttotal: 317ms\tremaining: 536ms\n",
      "186:\tlearn: 0.0996841\ttotal: 318ms\tremaining: 533ms\n",
      "187:\tlearn: 0.0989956\ttotal: 319ms\tremaining: 530ms\n",
      "188:\tlearn: 0.0984122\ttotal: 320ms\tremaining: 527ms\n",
      "189:\tlearn: 0.0980452\ttotal: 321ms\tremaining: 524ms\n",
      "190:\tlearn: 0.0974587\ttotal: 322ms\tremaining: 522ms\n",
      "191:\tlearn: 0.0967957\ttotal: 323ms\tremaining: 519ms\n",
      "192:\tlearn: 0.0963547\ttotal: 324ms\tremaining: 516ms\n",
      "193:\tlearn: 0.0954630\ttotal: 325ms\tremaining: 513ms\n",
      "194:\tlearn: 0.0948151\ttotal: 326ms\tremaining: 511ms\n",
      "195:\tlearn: 0.0938647\ttotal: 327ms\tremaining: 508ms\n",
      "196:\tlearn: 0.0930411\ttotal: 328ms\tremaining: 505ms\n",
      "197:\tlearn: 0.0927391\ttotal: 329ms\tremaining: 502ms\n",
      "198:\tlearn: 0.0924311\ttotal: 330ms\tremaining: 500ms\n",
      "199:\tlearn: 0.0914428\ttotal: 331ms\tremaining: 497ms\n",
      "200:\tlearn: 0.0906676\ttotal: 332ms\tremaining: 495ms\n",
      "201:\tlearn: 0.0902209\ttotal: 333ms\tremaining: 492ms\n",
      "202:\tlearn: 0.0894846\ttotal: 334ms\tremaining: 489ms\n",
      "203:\tlearn: 0.0885144\ttotal: 335ms\tremaining: 487ms\n",
      "204:\tlearn: 0.0880534\ttotal: 336ms\tremaining: 484ms\n",
      "205:\tlearn: 0.0876571\ttotal: 337ms\tremaining: 482ms\n",
      "206:\tlearn: 0.0868254\ttotal: 338ms\tremaining: 479ms\n",
      "207:\tlearn: 0.0865865\ttotal: 339ms\tremaining: 477ms\n",
      "208:\tlearn: 0.0859130\ttotal: 340ms\tremaining: 474ms\n",
      "209:\tlearn: 0.0853411\ttotal: 341ms\tremaining: 472ms\n",
      "210:\tlearn: 0.0846998\ttotal: 342ms\tremaining: 469ms\n",
      "211:\tlearn: 0.0844539\ttotal: 343ms\tremaining: 467ms\n",
      "212:\tlearn: 0.0837892\ttotal: 345ms\tremaining: 464ms\n",
      "213:\tlearn: 0.0831644\ttotal: 346ms\tremaining: 462ms\n",
      "214:\tlearn: 0.0824883\ttotal: 347ms\tremaining: 460ms\n",
      "215:\tlearn: 0.0822492\ttotal: 348ms\tremaining: 457ms\n",
      "216:\tlearn: 0.0817229\ttotal: 349ms\tremaining: 455ms\n",
      "217:\tlearn: 0.0809448\ttotal: 350ms\tremaining: 453ms\n",
      "218:\tlearn: 0.0804820\ttotal: 351ms\tremaining: 450ms\n",
      "219:\tlearn: 0.0800543\ttotal: 352ms\tremaining: 448ms\n",
      "220:\tlearn: 0.0794621\ttotal: 353ms\tremaining: 446ms\n",
      "221:\tlearn: 0.0788689\ttotal: 354ms\tremaining: 443ms\n",
      "222:\tlearn: 0.0784750\ttotal: 355ms\tremaining: 441ms\n",
      "223:\tlearn: 0.0781743\ttotal: 356ms\tremaining: 439ms\n",
      "224:\tlearn: 0.0773138\ttotal: 357ms\tremaining: 436ms\n",
      "225:\tlearn: 0.0769306\ttotal: 358ms\tremaining: 434ms\n",
      "226:\tlearn: 0.0765240\ttotal: 359ms\tremaining: 432ms\n",
      "227:\tlearn: 0.0761238\ttotal: 360ms\tremaining: 429ms\n",
      "228:\tlearn: 0.0755122\ttotal: 361ms\tremaining: 427ms\n",
      "229:\tlearn: 0.0749742\ttotal: 362ms\tremaining: 425ms\n",
      "230:\tlearn: 0.0744894\ttotal: 363ms\tremaining: 423ms\n",
      "231:\tlearn: 0.0742076\ttotal: 364ms\tremaining: 420ms\n",
      "232:\tlearn: 0.0736717\ttotal: 365ms\tremaining: 418ms\n",
      "233:\tlearn: 0.0730290\ttotal: 366ms\tremaining: 416ms\n",
      "234:\tlearn: 0.0725167\ttotal: 367ms\tremaining: 414ms\n",
      "235:\tlearn: 0.0718639\ttotal: 368ms\tremaining: 412ms\n",
      "236:\tlearn: 0.0714392\ttotal: 369ms\tremaining: 409ms\n",
      "237:\tlearn: 0.0707925\ttotal: 370ms\tremaining: 407ms\n",
      "238:\tlearn: 0.0703947\ttotal: 371ms\tremaining: 405ms\n",
      "239:\tlearn: 0.0699778\ttotal: 372ms\tremaining: 403ms\n",
      "240:\tlearn: 0.0696613\ttotal: 373ms\tremaining: 401ms\n",
      "241:\tlearn: 0.0692032\ttotal: 374ms\tremaining: 399ms\n",
      "242:\tlearn: 0.0689074\ttotal: 375ms\tremaining: 397ms\n",
      "243:\tlearn: 0.0685788\ttotal: 376ms\tremaining: 395ms\n",
      "244:\tlearn: 0.0681890\ttotal: 377ms\tremaining: 392ms\n",
      "245:\tlearn: 0.0679132\ttotal: 378ms\tremaining: 390ms\n",
      "246:\tlearn: 0.0675387\ttotal: 379ms\tremaining: 388ms\n",
      "247:\tlearn: 0.0669814\ttotal: 380ms\tremaining: 386ms\n",
      "248:\tlearn: 0.0667598\ttotal: 381ms\tremaining: 384ms\n",
      "249:\tlearn: 0.0663331\ttotal: 382ms\tremaining: 382ms\n",
      "250:\tlearn: 0.0658741\ttotal: 383ms\tremaining: 380ms\n",
      "251:\tlearn: 0.0654580\ttotal: 384ms\tremaining: 378ms\n",
      "252:\tlearn: 0.0649983\ttotal: 385ms\tremaining: 376ms\n",
      "253:\tlearn: 0.0646888\ttotal: 386ms\tremaining: 374ms\n",
      "254:\tlearn: 0.0644722\ttotal: 387ms\tremaining: 372ms\n",
      "255:\tlearn: 0.0641704\ttotal: 388ms\tremaining: 370ms\n",
      "256:\tlearn: 0.0638139\ttotal: 389ms\tremaining: 368ms\n",
      "257:\tlearn: 0.0636308\ttotal: 390ms\tremaining: 366ms\n",
      "258:\tlearn: 0.0633473\ttotal: 391ms\tremaining: 364ms\n",
      "259:\tlearn: 0.0628410\ttotal: 392ms\tremaining: 362ms\n",
      "260:\tlearn: 0.0624131\ttotal: 393ms\tremaining: 360ms\n",
      "261:\tlearn: 0.0620028\ttotal: 394ms\tremaining: 358ms\n",
      "262:\tlearn: 0.0616825\ttotal: 395ms\tremaining: 356ms\n",
      "263:\tlearn: 0.0613471\ttotal: 396ms\tremaining: 354ms\n",
      "264:\tlearn: 0.0611268\ttotal: 397ms\tremaining: 352ms\n",
      "265:\tlearn: 0.0609329\ttotal: 398ms\tremaining: 350ms\n",
      "266:\tlearn: 0.0606714\ttotal: 399ms\tremaining: 348ms\n",
      "267:\tlearn: 0.0604517\ttotal: 400ms\tremaining: 346ms\n",
      "268:\tlearn: 0.0602234\ttotal: 401ms\tremaining: 344ms\n",
      "269:\tlearn: 0.0597878\ttotal: 402ms\tremaining: 342ms\n",
      "270:\tlearn: 0.0595451\ttotal: 403ms\tremaining: 341ms\n",
      "271:\tlearn: 0.0591957\ttotal: 404ms\tremaining: 339ms\n",
      "272:\tlearn: 0.0588449\ttotal: 405ms\tremaining: 337ms\n",
      "273:\tlearn: 0.0586265\ttotal: 406ms\tremaining: 335ms\n",
      "274:\tlearn: 0.0584553\ttotal: 407ms\tremaining: 333ms\n",
      "275:\tlearn: 0.0581418\ttotal: 408ms\tremaining: 331ms\n",
      "276:\tlearn: 0.0577184\ttotal: 409ms\tremaining: 329ms\n",
      "277:\tlearn: 0.0572825\ttotal: 410ms\tremaining: 328ms\n",
      "278:\tlearn: 0.0569526\ttotal: 411ms\tremaining: 326ms\n",
      "279:\tlearn: 0.0568238\ttotal: 412ms\tremaining: 324ms\n",
      "280:\tlearn: 0.0565053\ttotal: 413ms\tremaining: 322ms\n",
      "281:\tlearn: 0.0563154\ttotal: 414ms\tremaining: 320ms\n",
      "282:\tlearn: 0.0560428\ttotal: 415ms\tremaining: 318ms\n",
      "283:\tlearn: 0.0556381\ttotal: 416ms\tremaining: 317ms\n",
      "284:\tlearn: 0.0553038\ttotal: 417ms\tremaining: 315ms\n",
      "285:\tlearn: 0.0551224\ttotal: 418ms\tremaining: 313ms\n",
      "286:\tlearn: 0.0549841\ttotal: 419ms\tremaining: 311ms\n",
      "287:\tlearn: 0.0549041\ttotal: 420ms\tremaining: 309ms\n",
      "288:\tlearn: 0.0547190\ttotal: 421ms\tremaining: 308ms\n",
      "289:\tlearn: 0.0544904\ttotal: 422ms\tremaining: 306ms\n",
      "290:\tlearn: 0.0542953\ttotal: 423ms\tremaining: 304ms\n",
      "291:\tlearn: 0.0539533\ttotal: 424ms\tremaining: 302ms\n",
      "292:\tlearn: 0.0536433\ttotal: 425ms\tremaining: 300ms\n",
      "293:\tlearn: 0.0533644\ttotal: 426ms\tremaining: 299ms\n",
      "294:\tlearn: 0.0530629\ttotal: 427ms\tremaining: 297ms\n",
      "295:\tlearn: 0.0527816\ttotal: 428ms\tremaining: 295ms\n",
      "296:\tlearn: 0.0526634\ttotal: 429ms\tremaining: 293ms\n",
      "297:\tlearn: 0.0524712\ttotal: 430ms\tremaining: 292ms\n",
      "298:\tlearn: 0.0522649\ttotal: 431ms\tremaining: 290ms\n",
      "299:\tlearn: 0.0520931\ttotal: 432ms\tremaining: 288ms\n",
      "300:\tlearn: 0.0518562\ttotal: 433ms\tremaining: 286ms\n",
      "301:\tlearn: 0.0516302\ttotal: 434ms\tremaining: 285ms\n",
      "302:\tlearn: 0.0513638\ttotal: 435ms\tremaining: 283ms\n",
      "303:\tlearn: 0.0509847\ttotal: 436ms\tremaining: 281ms\n",
      "304:\tlearn: 0.0507855\ttotal: 437ms\tremaining: 280ms\n",
      "305:\tlearn: 0.0504396\ttotal: 438ms\tremaining: 278ms\n",
      "306:\tlearn: 0.0502155\ttotal: 439ms\tremaining: 276ms\n",
      "307:\tlearn: 0.0500268\ttotal: 441ms\tremaining: 275ms\n",
      "308:\tlearn: 0.0497152\ttotal: 442ms\tremaining: 273ms\n",
      "309:\tlearn: 0.0495875\ttotal: 443ms\tremaining: 271ms\n",
      "310:\tlearn: 0.0495571\ttotal: 444ms\tremaining: 270ms\n",
      "311:\tlearn: 0.0494385\ttotal: 445ms\tremaining: 268ms\n",
      "312:\tlearn: 0.0491217\ttotal: 446ms\tremaining: 266ms\n",
      "313:\tlearn: 0.0487098\ttotal: 447ms\tremaining: 265ms\n",
      "314:\tlearn: 0.0484525\ttotal: 448ms\tremaining: 263ms\n",
      "315:\tlearn: 0.0481913\ttotal: 449ms\tremaining: 261ms\n",
      "316:\tlearn: 0.0481137\ttotal: 450ms\tremaining: 260ms\n",
      "317:\tlearn: 0.0479197\ttotal: 451ms\tremaining: 258ms\n",
      "318:\tlearn: 0.0475807\ttotal: 452ms\tremaining: 256ms\n",
      "319:\tlearn: 0.0472572\ttotal: 453ms\tremaining: 255ms\n",
      "320:\tlearn: 0.0470308\ttotal: 454ms\tremaining: 253ms\n",
      "321:\tlearn: 0.0467325\ttotal: 454ms\tremaining: 251ms\n",
      "322:\tlearn: 0.0466981\ttotal: 455ms\tremaining: 250ms\n",
      "323:\tlearn: 0.0464930\ttotal: 456ms\tremaining: 248ms\n",
      "324:\tlearn: 0.0463558\ttotal: 458ms\tremaining: 246ms\n",
      "325:\tlearn: 0.0462585\ttotal: 459ms\tremaining: 245ms\n",
      "326:\tlearn: 0.0461292\ttotal: 460ms\tremaining: 243ms\n",
      "327:\tlearn: 0.0459739\ttotal: 461ms\tremaining: 242ms\n",
      "328:\tlearn: 0.0456400\ttotal: 462ms\tremaining: 240ms\n",
      "329:\tlearn: 0.0455033\ttotal: 463ms\tremaining: 238ms\n",
      "330:\tlearn: 0.0453075\ttotal: 464ms\tremaining: 237ms\n",
      "331:\tlearn: 0.0450417\ttotal: 465ms\tremaining: 235ms\n",
      "332:\tlearn: 0.0449395\ttotal: 466ms\tremaining: 233ms\n",
      "333:\tlearn: 0.0448473\ttotal: 467ms\tremaining: 232ms\n",
      "334:\tlearn: 0.0447424\ttotal: 468ms\tremaining: 230ms\n",
      "335:\tlearn: 0.0445082\ttotal: 469ms\tremaining: 229ms\n",
      "336:\tlearn: 0.0442594\ttotal: 470ms\tremaining: 227ms\n",
      "337:\tlearn: 0.0442225\ttotal: 470ms\tremaining: 225ms\n",
      "338:\tlearn: 0.0442069\ttotal: 471ms\tremaining: 224ms\n",
      "339:\tlearn: 0.0440366\ttotal: 472ms\tremaining: 222ms\n",
      "340:\tlearn: 0.0439312\ttotal: 473ms\tremaining: 221ms\n",
      "341:\tlearn: 0.0436455\ttotal: 474ms\tremaining: 219ms\n",
      "342:\tlearn: 0.0434062\ttotal: 475ms\tremaining: 218ms\n",
      "343:\tlearn: 0.0432453\ttotal: 476ms\tremaining: 216ms\n",
      "344:\tlearn: 0.0431506\ttotal: 477ms\tremaining: 214ms\n",
      "345:\tlearn: 0.0429336\ttotal: 478ms\tremaining: 213ms\n",
      "346:\tlearn: 0.0428609\ttotal: 479ms\tremaining: 211ms\n",
      "347:\tlearn: 0.0426289\ttotal: 480ms\tremaining: 210ms\n",
      "348:\tlearn: 0.0424384\ttotal: 481ms\tremaining: 208ms\n",
      "349:\tlearn: 0.0421497\ttotal: 482ms\tremaining: 207ms\n",
      "350:\tlearn: 0.0419446\ttotal: 483ms\tremaining: 205ms\n",
      "351:\tlearn: 0.0417073\ttotal: 484ms\tremaining: 204ms\n",
      "352:\tlearn: 0.0414276\ttotal: 486ms\tremaining: 202ms\n",
      "353:\tlearn: 0.0412404\ttotal: 487ms\tremaining: 201ms\n",
      "354:\tlearn: 0.0410668\ttotal: 488ms\tremaining: 199ms\n",
      "355:\tlearn: 0.0408594\ttotal: 489ms\tremaining: 198ms\n",
      "356:\tlearn: 0.0407461\ttotal: 490ms\tremaining: 196ms\n",
      "357:\tlearn: 0.0405692\ttotal: 492ms\tremaining: 195ms\n",
      "358:\tlearn: 0.0403765\ttotal: 493ms\tremaining: 194ms\n",
      "359:\tlearn: 0.0401190\ttotal: 494ms\tremaining: 192ms\n",
      "360:\tlearn: 0.0399048\ttotal: 495ms\tremaining: 191ms\n",
      "361:\tlearn: 0.0397711\ttotal: 496ms\tremaining: 189ms\n",
      "362:\tlearn: 0.0395194\ttotal: 497ms\tremaining: 188ms\n",
      "363:\tlearn: 0.0393173\ttotal: 499ms\tremaining: 186ms\n",
      "364:\tlearn: 0.0391571\ttotal: 500ms\tremaining: 185ms\n",
      "365:\tlearn: 0.0390129\ttotal: 501ms\tremaining: 183ms\n",
      "366:\tlearn: 0.0388455\ttotal: 502ms\tremaining: 182ms\n",
      "367:\tlearn: 0.0387629\ttotal: 503ms\tremaining: 180ms\n",
      "368:\tlearn: 0.0385970\ttotal: 504ms\tremaining: 179ms\n",
      "369:\tlearn: 0.0385029\ttotal: 505ms\tremaining: 177ms\n",
      "370:\tlearn: 0.0383627\ttotal: 506ms\tremaining: 176ms\n",
      "371:\tlearn: 0.0382247\ttotal: 507ms\tremaining: 174ms\n",
      "372:\tlearn: 0.0380824\ttotal: 508ms\tremaining: 173ms\n",
      "373:\tlearn: 0.0378856\ttotal: 509ms\tremaining: 171ms\n",
      "374:\tlearn: 0.0377864\ttotal: 510ms\tremaining: 170ms\n",
      "375:\tlearn: 0.0377771\ttotal: 511ms\tremaining: 168ms\n",
      "376:\tlearn: 0.0376231\ttotal: 512ms\tremaining: 167ms\n",
      "377:\tlearn: 0.0374958\ttotal: 513ms\tremaining: 166ms\n",
      "378:\tlearn: 0.0374012\ttotal: 514ms\tremaining: 164ms\n",
      "379:\tlearn: 0.0373330\ttotal: 515ms\tremaining: 163ms\n",
      "380:\tlearn: 0.0370873\ttotal: 516ms\tremaining: 161ms\n",
      "381:\tlearn: 0.0369493\ttotal: 517ms\tremaining: 160ms\n",
      "382:\tlearn: 0.0367215\ttotal: 518ms\tremaining: 158ms\n",
      "383:\tlearn: 0.0365778\ttotal: 519ms\tremaining: 157ms\n",
      "384:\tlearn: 0.0363630\ttotal: 520ms\tremaining: 155ms\n",
      "385:\tlearn: 0.0361744\ttotal: 521ms\tremaining: 154ms\n",
      "386:\tlearn: 0.0360453\ttotal: 522ms\tremaining: 152ms\n",
      "387:\tlearn: 0.0359002\ttotal: 523ms\tremaining: 151ms\n",
      "388:\tlearn: 0.0357900\ttotal: 524ms\tremaining: 150ms\n",
      "389:\tlearn: 0.0355536\ttotal: 525ms\tremaining: 148ms\n",
      "390:\tlearn: 0.0353967\ttotal: 526ms\tremaining: 147ms\n",
      "391:\tlearn: 0.0352246\ttotal: 527ms\tremaining: 145ms\n",
      "392:\tlearn: 0.0351144\ttotal: 528ms\tremaining: 144ms\n",
      "393:\tlearn: 0.0350903\ttotal: 529ms\tremaining: 142ms\n",
      "394:\tlearn: 0.0348645\ttotal: 530ms\tremaining: 141ms\n",
      "395:\tlearn: 0.0347189\ttotal: 531ms\tremaining: 139ms\n",
      "396:\tlearn: 0.0346019\ttotal: 532ms\tremaining: 138ms\n",
      "397:\tlearn: 0.0344904\ttotal: 533ms\tremaining: 137ms\n",
      "398:\tlearn: 0.0344286\ttotal: 534ms\tremaining: 135ms\n",
      "399:\tlearn: 0.0342449\ttotal: 535ms\tremaining: 134ms\n",
      "400:\tlearn: 0.0341118\ttotal: 536ms\tremaining: 132ms\n",
      "401:\tlearn: 0.0339425\ttotal: 537ms\tremaining: 131ms\n",
      "402:\tlearn: 0.0338228\ttotal: 538ms\tremaining: 130ms\n",
      "403:\tlearn: 0.0337383\ttotal: 539ms\tremaining: 128ms\n",
      "404:\tlearn: 0.0334532\ttotal: 540ms\tremaining: 127ms\n",
      "405:\tlearn: 0.0332762\ttotal: 541ms\tremaining: 125ms\n",
      "406:\tlearn: 0.0330709\ttotal: 542ms\tremaining: 124ms\n",
      "407:\tlearn: 0.0328982\ttotal: 543ms\tremaining: 123ms\n",
      "408:\tlearn: 0.0327915\ttotal: 544ms\tremaining: 121ms\n",
      "409:\tlearn: 0.0325538\ttotal: 545ms\tremaining: 120ms\n",
      "410:\tlearn: 0.0324419\ttotal: 546ms\tremaining: 118ms\n",
      "411:\tlearn: 0.0322624\ttotal: 547ms\tremaining: 117ms\n",
      "412:\tlearn: 0.0321495\ttotal: 548ms\tremaining: 116ms\n",
      "413:\tlearn: 0.0320717\ttotal: 549ms\tremaining: 114ms\n",
      "414:\tlearn: 0.0319401\ttotal: 550ms\tremaining: 113ms\n",
      "415:\tlearn: 0.0319244\ttotal: 552ms\tremaining: 111ms\n",
      "416:\tlearn: 0.0317419\ttotal: 553ms\tremaining: 110ms\n",
      "417:\tlearn: 0.0315963\ttotal: 554ms\tremaining: 109ms\n",
      "418:\tlearn: 0.0313870\ttotal: 555ms\tremaining: 107ms\n",
      "419:\tlearn: 0.0312720\ttotal: 557ms\tremaining: 106ms\n",
      "420:\tlearn: 0.0311819\ttotal: 558ms\tremaining: 105ms\n",
      "421:\tlearn: 0.0310542\ttotal: 559ms\tremaining: 103ms\n",
      "422:\tlearn: 0.0309345\ttotal: 560ms\tremaining: 102ms\n",
      "423:\tlearn: 0.0307708\ttotal: 561ms\tremaining: 101ms\n",
      "424:\tlearn: 0.0306604\ttotal: 563ms\tremaining: 99.3ms\n",
      "425:\tlearn: 0.0304841\ttotal: 564ms\tremaining: 97.9ms\n",
      "426:\tlearn: 0.0303360\ttotal: 565ms\tremaining: 96.6ms\n",
      "427:\tlearn: 0.0302568\ttotal: 566ms\tremaining: 95.2ms\n",
      "428:\tlearn: 0.0301274\ttotal: 567ms\tremaining: 93.9ms\n",
      "429:\tlearn: 0.0300432\ttotal: 568ms\tremaining: 92.5ms\n",
      "430:\tlearn: 0.0300078\ttotal: 569ms\tremaining: 91.1ms\n",
      "431:\tlearn: 0.0299303\ttotal: 570ms\tremaining: 89.7ms\n",
      "432:\tlearn: 0.0298392\ttotal: 571ms\tremaining: 88.4ms\n",
      "433:\tlearn: 0.0297371\ttotal: 572ms\tremaining: 87ms\n",
      "434:\tlearn: 0.0295780\ttotal: 573ms\tremaining: 85.6ms\n",
      "435:\tlearn: 0.0294088\ttotal: 574ms\tremaining: 84.3ms\n",
      "436:\tlearn: 0.0293130\ttotal: 575ms\tremaining: 82.9ms\n",
      "437:\tlearn: 0.0291267\ttotal: 576ms\tremaining: 81.6ms\n",
      "438:\tlearn: 0.0290746\ttotal: 577ms\tremaining: 80.2ms\n",
      "439:\tlearn: 0.0289830\ttotal: 578ms\tremaining: 78.8ms\n",
      "440:\tlearn: 0.0288566\ttotal: 579ms\tremaining: 77.5ms\n",
      "441:\tlearn: 0.0287094\ttotal: 580ms\tremaining: 76.1ms\n",
      "442:\tlearn: 0.0286244\ttotal: 581ms\tremaining: 74.8ms\n",
      "443:\tlearn: 0.0285335\ttotal: 582ms\tremaining: 73.4ms\n",
      "444:\tlearn: 0.0284638\ttotal: 583ms\tremaining: 72.1ms\n",
      "445:\tlearn: 0.0284029\ttotal: 584ms\tremaining: 70.7ms\n",
      "446:\tlearn: 0.0283152\ttotal: 585ms\tremaining: 69.4ms\n",
      "447:\tlearn: 0.0282449\ttotal: 586ms\tremaining: 68ms\n",
      "448:\tlearn: 0.0281067\ttotal: 587ms\tremaining: 66.7ms\n",
      "449:\tlearn: 0.0280123\ttotal: 588ms\tremaining: 65.4ms\n",
      "450:\tlearn: 0.0278459\ttotal: 589ms\tremaining: 64ms\n",
      "451:\tlearn: 0.0277610\ttotal: 590ms\tremaining: 62.7ms\n",
      "452:\tlearn: 0.0276888\ttotal: 591ms\tremaining: 61.3ms\n",
      "453:\tlearn: 0.0275955\ttotal: 592ms\tremaining: 60ms\n",
      "454:\tlearn: 0.0274792\ttotal: 593ms\tremaining: 58.7ms\n",
      "455:\tlearn: 0.0273947\ttotal: 594ms\tremaining: 57.3ms\n",
      "456:\tlearn: 0.0272485\ttotal: 595ms\tremaining: 56ms\n",
      "457:\tlearn: 0.0271124\ttotal: 596ms\tremaining: 54.7ms\n",
      "458:\tlearn: 0.0270534\ttotal: 597ms\tremaining: 53.4ms\n",
      "459:\tlearn: 0.0270129\ttotal: 598ms\tremaining: 52ms\n",
      "460:\tlearn: 0.0268908\ttotal: 599ms\tremaining: 50.7ms\n",
      "461:\tlearn: 0.0267297\ttotal: 600ms\tremaining: 49.4ms\n",
      "462:\tlearn: 0.0266002\ttotal: 601ms\tremaining: 48.1ms\n",
      "463:\tlearn: 0.0264643\ttotal: 602ms\tremaining: 46.7ms\n",
      "464:\tlearn: 0.0264591\ttotal: 603ms\tremaining: 45.4ms\n",
      "465:\tlearn: 0.0263683\ttotal: 604ms\tremaining: 44.1ms\n",
      "466:\tlearn: 0.0262468\ttotal: 605ms\tremaining: 42.8ms\n",
      "467:\tlearn: 0.0260976\ttotal: 606ms\tremaining: 41.5ms\n",
      "468:\tlearn: 0.0260824\ttotal: 607ms\tremaining: 40.1ms\n",
      "469:\tlearn: 0.0260536\ttotal: 608ms\tremaining: 38.8ms\n",
      "470:\tlearn: 0.0259924\ttotal: 609ms\tremaining: 37.5ms\n",
      "471:\tlearn: 0.0259337\ttotal: 610ms\tremaining: 36.2ms\n",
      "472:\tlearn: 0.0258085\ttotal: 611ms\tremaining: 34.9ms\n",
      "473:\tlearn: 0.0256978\ttotal: 612ms\tremaining: 33.6ms\n",
      "474:\tlearn: 0.0256330\ttotal: 613ms\tremaining: 32.3ms\n",
      "475:\tlearn: 0.0255585\ttotal: 614ms\tremaining: 31ms\n",
      "476:\tlearn: 0.0254888\ttotal: 615ms\tremaining: 29.7ms\n",
      "477:\tlearn: 0.0253466\ttotal: 616ms\tremaining: 28.4ms\n",
      "478:\tlearn: 0.0252295\ttotal: 617ms\tremaining: 27.1ms\n",
      "479:\tlearn: 0.0251247\ttotal: 618ms\tremaining: 25.8ms\n",
      "480:\tlearn: 0.0250413\ttotal: 619ms\tremaining: 24.5ms\n",
      "481:\tlearn: 0.0249806\ttotal: 620ms\tremaining: 23.2ms\n",
      "482:\tlearn: 0.0249067\ttotal: 621ms\tremaining: 21.9ms\n",
      "483:\tlearn: 0.0248142\ttotal: 622ms\tremaining: 20.6ms\n",
      "484:\tlearn: 0.0247558\ttotal: 624ms\tremaining: 19.3ms\n",
      "485:\tlearn: 0.0247400\ttotal: 624ms\tremaining: 18ms\n",
      "486:\tlearn: 0.0246716\ttotal: 625ms\tremaining: 16.7ms\n",
      "487:\tlearn: 0.0245765\ttotal: 626ms\tremaining: 15.4ms\n",
      "488:\tlearn: 0.0245595\ttotal: 627ms\tremaining: 14.1ms\n",
      "489:\tlearn: 0.0244942\ttotal: 629ms\tremaining: 12.8ms\n",
      "490:\tlearn: 0.0244216\ttotal: 630ms\tremaining: 11.5ms\n",
      "491:\tlearn: 0.0243454\ttotal: 631ms\tremaining: 10.3ms\n",
      "492:\tlearn: 0.0242820\ttotal: 632ms\tremaining: 8.97ms\n",
      "493:\tlearn: 0.0242107\ttotal: 633ms\tremaining: 7.69ms\n",
      "494:\tlearn: 0.0241411\ttotal: 634ms\tremaining: 6.41ms\n",
      "495:\tlearn: 0.0240706\ttotal: 635ms\tremaining: 5.12ms\n",
      "496:\tlearn: 0.0239969\ttotal: 636ms\tremaining: 3.84ms\n",
      "497:\tlearn: 0.0239411\ttotal: 638ms\tremaining: 2.56ms\n",
      "498:\tlearn: 0.0238683\ttotal: 639ms\tremaining: 1.28ms\n",
      "499:\tlearn: 0.0238014\ttotal: 640ms\tremaining: 0us\n"
     ]
    },
    {
     "data": {
      "text/plain": [
       "{'KNN': 0.6557377049180327,\n",
       " 'Logistic Regression': 0.819672131147541,\n",
       " 'Random Forest': 0.8524590163934426,\n",
       " 'Support Vector Machine': 0.6721311475409836,\n",
       " 'Naive Bayes ': 0.9016393442622951,\n",
       " 'XGBoost': 0.8360655737704918,\n",
       " 'LightGBM': 0.8524590163934426,\n",
       " 'CatBoost': 0.819672131147541}"
      ]
     },
     "execution_count": 21,
     "metadata": {},
     "output_type": "execute_result"
    }
   ],
   "source": [
    "model_scores = fit_and_score(models=models,\n",
    "                             X_train=X_train,\n",
    "                             X_test=X_test,\n",
    "                             y_train=y_train,\n",
    "                             y_test=y_test)\n",
    "model_scores"
   ]
  },
  {
   "cell_type": "markdown",
   "id": "26b0c514-47d8-4561-9841-61d1f33e0484",
   "metadata": {},
   "source": [
    "## Model Comparison\n",
    "\n",
    "Since we've saved our models scores to a dictionary, we can plot them by first converting them to a DataFrame."
   ]
  },
  {
   "cell_type": "code",
   "execution_count": 22,
   "id": "619d3b38-d16e-42c2-b228-b966e9bb3341",
   "metadata": {},
   "outputs": [
    {
     "data": {
      "image/png": "[encoded data removed]",
      "text/plain": [
       "<Figure size 640x480 with 1 Axes>"
      ]
     },
     "metadata": {},
     "output_type": "display_data"
    }
   ],
   "source": [
    "model_compare = pd.DataFrame(model_scores, index=['accuracy'])\n",
    "model_compare.T.plot.bar();"
   ]
  },
  {
   "cell_type": "markdown",
   "id": "339f9e99-6502-45e8-953e-127f5941b5de",
   "metadata": {},
   "source": [
    "## Hyperparameter tuning and cross-validation\n",
    "\n",
    "Since we found out which model works the best with our dataset now we can choose top 3\n",
    "1. Naive Bayes\n",
    "2. Random Forest\n",
    "3. LightGBM"
   ]
  },
  {
   "cell_type": "markdown",
   "id": "9a0f056c-305c-46ca-adea-a5574e162dce",
   "metadata": {},
   "source": [
    "### Tuning models with with `RandomizedSearchCV`"
   ]
  },
  {
   "cell_type": "code",
   "execution_count": 23,
   "id": "8dc9cfcb-98f3-4e94-bf2d-0522c13b5e04",
   "metadata": {},
   "outputs": [],
   "source": [
    "# Different GaussianNB hyperparameters\n",
    "gnb_grid = {\n",
    "    \"var_smoothing\": np.logspace(-9, 0, 10),\n",
    "    \"priors\": [None, [0.5, 0.5], [0.3, 0.7]]\n",
    "}\n",
    "\n",
    "\n",
    "# Different RandomForestClassifier hyperparameters\n",
    "rf_grid = {\n",
    "    \"n_estimators\": np.arange(10, 1000, 50),\n",
    "    \"max_depth\": [None, 3, 5, 10],\n",
    "    \"min_samples_split\": np.arange(2, 20, 2),\n",
    "    \"min_samples_leaf\": np.arange(1, 20, 2),\n",
    "    \"bootstrap\": [True, False],\n",
    "    \"criterion\": [\"gini\", \"entropy\"],\n",
    "    \"max_features\": [\"sqrt\", \"log2\", None],\n",
    "    \"min_weight_fraction_leaf\": [0.0, 0.1, 0.2],\n",
    "    \"max_leaf_nodes\": [None, 10, 20, 30],\n",
    "    \"min_impurity_decrease\": [0.0, 0.1, 0.2]\n",
    "    \n",
    "}\n",
    "\n",
    "# Different LGBMClassifier hyperparameters\n",
    "lgbm_grid = {\n",
    "    \"num_leaves\": np.arange(20, 150, 10),\n",
    "    \"learning_rate\": np.logspace(-4, 0, 20),\n",
    "    \"n_estimators\": np.arange(50, 1000, 50),\n",
    "    \"max_depth\": [-1, 3, 5, 10],\n",
    "    \"min_child_samples\": np.arange(5, 50, 5),\n",
    "    \"subsample\": np.linspace(0.5, 1.0, 6),\n",
    "    \"colsample_bytree\": np.linspace(0.5, 1.0, 6),\n",
    "    \"reg_alpha\": np.logspace(-4, 1, 10),\n",
    "    \"reg_lambda\": np.logspace(-4, 1, 10),\n",
    "    \"min_split_gain\": [0.0, 0.1, 0.2]\n",
    "}\n"
   ]
  },
  {
   "cell_type": "code",
   "execution_count": 24,
   "id": "824f3375-afff-4d51-94fd-a07b9223cf38",
   "metadata": {},
   "outputs": [
    {
     "name": "stdout",
     "output_type": "stream",
     "text": [
      "Fitting 5 folds for each of 20 candidates, totalling 100 fits\n"
     ]
    }
   ],
   "source": [
    "# Setup random seed\n",
    "np.random.seed(99)\n",
    "\n",
    "# Setup random hyperparameter search for GaussianNB\n",
    "rs_gnb = RandomizedSearchCV(GaussianNB(),\n",
    "                        param_distributions=gnb_grid,\n",
    "                        cv=5,\n",
    "                        n_iter=20,\n",
    "                        verbose=True)\n",
    "\n",
    "# Fit random hyperparameter search model\n",
    "rs_gnb.fit(X_train, y_train);"
   ]
  },
  {
   "cell_type": "code",
   "execution_count": 25,
   "id": "bad4d2a0-574a-4ec7-8a5e-f7ca6628c5bf",
   "metadata": {},
   "outputs": [
    {
     "data": {
      "text/plain": [
       "{'var_smoothing': 1e-05, 'priors': [0.3, 0.7]}"
      ]
     },
     "execution_count": 25,
     "metadata": {},
     "output_type": "execute_result"
    }
   ],
   "source": [
    "rs_gnb.best_params_"
   ]
  },
  {
   "cell_type": "code",
   "execution_count": 26,
   "id": "3da720c1-569a-4338-919c-3be5fc120d11",
   "metadata": {},
   "outputs": [
    {
     "data": {
      "text/plain": [
       "0.9016393442622951"
      ]
     },
     "execution_count": 26,
     "metadata": {},
     "output_type": "execute_result"
    }
   ],
   "source": [
    "rs_gnb.score(X_test, y_test)"
   ]
  },
  {
   "cell_type": "code",
   "execution_count": 30,
   "id": "e31f1747-6f1f-4de9-b6fc-d5f79a132e95",
   "metadata": {},
   "outputs": [
    {
     "name": "stdout",
     "output_type": "stream",
     "text": [
      "Fitting 5 folds for each of 20 candidates, totalling 100 fits\n"
     ]
    }
   ],
   "source": [
    "# Setup random seed\n",
    "np.random.seed(99)\n",
    "\n",
    "# Setup random hyperparameter search for RandomForestClassifier\n",
    "rs_rf = RandomizedSearchCV(RandomForestClassifier(),\n",
    "                        param_distributions=rf_grid,\n",
    "                        cv=5,\n",
    "                        n_iter=20,\n",
    "                        verbose=True)\n",
    "\n",
    "# Fit random hyperparameter search model\n",
    "rs_rf.fit(X_train, y_train);"
   ]
  },
  {
   "cell_type": "code",
   "execution_count": 31,
   "id": "1be8c0b6-bd4c-44db-b472-682e1c917904",
   "metadata": {},
   "outputs": [
    {
     "data": {
      "text/plain": [
       "{'n_estimators': 460,\n",
       " 'min_weight_fraction_leaf': 0.0,\n",
       " 'min_samples_split': 18,\n",
       " 'min_samples_leaf': 1,\n",
       " 'min_impurity_decrease': 0.0,\n",
       " 'max_leaf_nodes': 10,\n",
       " 'max_features': 'sqrt',\n",
       " 'max_depth': 5,\n",
       " 'criterion': 'gini',\n",
       " 'bootstrap': True}"
      ]
     },
     "execution_count": 31,
     "metadata": {},
     "output_type": "execute_result"
    }
   ],
   "source": [
    "rs_rf.best_params_"
   ]
  },
  {
   "cell_type": "code",
   "execution_count": 32,
   "id": "f7772569-20e8-4de4-81be-5f07bc188515",
   "metadata": {},
   "outputs": [
    {
     "data": {
      "text/plain": [
       "0.8852459016393442"
      ]
     },
     "execution_count": 32,
     "metadata": {},
     "output_type": "execute_result"
    }
   ],
   "source": [
    "rs_rf.score(X_test, y_test)"
   ]
  },
  {
   "cell_type": "code",
   "execution_count": null,
   "id": "6b19cf88-f36d-49f3-b62f-36b4cbe267b0",
   "metadata": {
    "scrolled": true
   },
   "outputs": [],
   "source": [
    "# Setup random seed\n",
    "np.random.seed(99)\n",
    "\n",
    "# Setup random hyperparameter search for RandomForestClassifier\n",
    "rs_lgbm = RandomizedSearchCV(LGBMClassifier(),\n",
    "                        param_distributions=lgbm_grid,\n",
    "                        cv=5,\n",
    "                        n_iter=20,\n",
    "                        verbose=True)\n",
    "\n",
    "# Fit random hyperparameter search model\n",
    "rs_lgbm.fit(X_train, y_train);"
   ]
  },
  {
   "cell_type": "code",
   "execution_count": 34,
   "id": "665147f6-88ea-4348-8b03-5a5ed91bf1e7",
   "metadata": {},
   "outputs": [
    {
     "data": {
      "text/plain": [
       "{'subsample': 0.9,\n",
       " 'reg_lambda': 0.00035938136638046257,\n",
       " 'reg_alpha': 0.7742636826811278,\n",
       " 'num_leaves': 140,\n",
       " 'n_estimators': 800,\n",
       " 'min_split_gain': 0.0,\n",
       " 'min_child_samples': 30,\n",
       " 'max_depth': 3,\n",
       " 'learning_rate': 0.03359818286283781,\n",
       " 'colsample_bytree': 0.8}"
      ]
     },
     "execution_count": 34,
     "metadata": {},
     "output_type": "execute_result"
    }
   ],
   "source": [
    "rs_lgbm.best_params_"
   ]
  },
  {
   "cell_type": "code",
   "execution_count": 35,
   "id": "63c5388d-5cee-4f60-9896-db4fb1948667",
   "metadata": {},
   "outputs": [
    {
     "data": {
      "text/plain": [
       "0.8524590163934426"
      ]
     },
     "execution_count": 35,
     "metadata": {},
     "output_type": "execute_result"
    }
   ],
   "source": [
    "rs_lgbm.score(X_test, y_test)"
   ]
  },
  {
   "cell_type": "markdown",
   "id": "87a8a81c-2a36-4802-babd-73aac5f3ce9e",
   "metadata": {},
   "source": [
    "### Tuning a model with `GridSearchCV`"
   ]
  },
  {
   "cell_type": "code",
   "execution_count": 36,
   "id": "86e13b3f-0383-4b97-8de1-8f12183c0baa",
   "metadata": {},
   "outputs": [
    {
     "name": "stdout",
     "output_type": "stream",
     "text": [
      "Fitting 5 folds for each of 30 candidates, totalling 150 fits\n"
     ]
    }
   ],
   "source": [
    "# Setup random seed\n",
    "np.random.seed(99)\n",
    "\n",
    "# Setup random hyperparameter search for GaussianNB\n",
    "gs_gnb = GridSearchCV(GaussianNB(),\n",
    "                        param_grid=gnb_grid,\n",
    "                        cv=5,\n",
    "                        verbose=True)\n",
    "\n",
    "# Fit random hyperparameter search model\n",
    "gs_gnb.fit(X_train, y_train);"
   ]
  },
  {
   "cell_type": "code",
   "execution_count": 37,
   "id": "0f154b59-d3b0-4bd5-bad3-0f67ef697f94",
   "metadata": {},
   "outputs": [
    {
     "data": {
      "text/plain": [
       "{'priors': [0.3, 0.7], 'var_smoothing': 1e-05}"
      ]
     },
     "execution_count": 37,
     "metadata": {},
     "output_type": "execute_result"
    }
   ],
   "source": [
    "gs_gnb.best_params_"
   ]
  },
  {
   "cell_type": "code",
   "execution_count": 38,
   "id": "34985098-596c-4464-97d5-a4372eb0590d",
   "metadata": {},
   "outputs": [
    {
     "data": {
      "text/plain": [
       "0.9016393442622951"
      ]
     },
     "execution_count": 38,
     "metadata": {},
     "output_type": "execute_result"
    }
   ],
   "source": [
    "gs_gnb.score(X_test, y_test)"
   ]
  },
  {
   "cell_type": "markdown",
   "id": "cf2d74a7-26d0-4d9f-9a98-cbc9b7fe1eac",
   "metadata": {},
   "source": [
    "#### “Given the lack of improvement observed with GaussianNB, it is likely that other algorithms will yield similar results. Therefore, GaussianNB has been selected as the algorithm for this dataset.”"
   ]
  },
  {
   "cell_type": "markdown",
   "id": "504e8123-f791-4671-82ff-28ee1c0f9738",
   "metadata": {},
   "source": [
    "## Evaluating the GaussianNB model\n",
    "\n",
    "* ROC curve and AUC score - `RocCurveDisplay()`\n",
    "* Confusion matrix - `confusion_matrix()`\n",
    "* Classification report - `classification_report()`\n",
    "* Precision - `precision_score()`\n",
    "* Recall - `recall_score()`\n",
    "* F1-score - `f1_score()`\n"
   ]
  },
  {
   "cell_type": "code",
   "execution_count": 39,
   "id": "f3228155-d7a0-4286-a826-6f2ae3945a2b",
   "metadata": {},
   "outputs": [],
   "source": [
    "y_preds = gs_gnb.predict(X_test)"
   ]
  },
  {
   "cell_type": "code",
   "execution_count": 40,
   "id": "424a89bc-a585-4bf4-a19e-e6e3f11eb140",
   "metadata": {},
   "outputs": [
    {
     "data": {
      "text/plain": [
       "array([1, 0, 1, 1, 1, 1, 1, 1, 0, 1, 0, 1, 0, 1, 1, 1, 1, 1, 0, 0, 1, 1,\n",
       "       0, 1, 0, 0, 1, 1, 1, 0, 0, 0, 1, 0, 0, 1, 0, 0, 1, 1, 0, 1, 1, 0,\n",
       "       1, 1, 1, 1, 1, 0, 1, 1, 1, 0, 1, 1, 0, 1, 0, 0, 1], dtype=int64)"
      ]
     },
     "execution_count": 40,
     "metadata": {},
     "output_type": "execute_result"
    }
   ],
   "source": [
    "y_preds"
   ]
  },
  {
   "cell_type": "code",
   "execution_count": 41,
   "id": "0ff65b4d-424a-4561-9dca-edbc951e88e9",
   "metadata": {},
   "outputs": [
    {
     "data": {
      "text/plain": [
       "array([1, 0, 1, 1, 1, 1, 1, 1, 0, 1, 0, 1, 0, 1, 1, 1, 1, 1, 0, 0, 1, 1,\n",
       "       1, 1, 0, 0, 1, 1, 0, 0, 0, 1, 1, 0, 1, 0, 0, 0, 0, 1, 0, 1, 1, 0,\n",
       "       1, 1, 1, 1, 1, 0, 1, 1, 1, 0, 1, 1, 0, 1, 0, 0, 1], dtype=int64)"
      ]
     },
     "execution_count": 41,
     "metadata": {},
     "output_type": "execute_result"
    }
   ],
   "source": [
    "y_test"
   ]
  },
  {
   "cell_type": "markdown",
   "id": "19cf232e-6e21-492e-ac94-772246e2a6c5",
   "metadata": {},
   "source": [
    "### ROC Curve and AUC Scores"
   ]
  },
  {
   "cell_type": "code",
   "execution_count": 42,
   "id": "667d58a1-f81b-4662-9725-dc55b6c309f6",
   "metadata": {},
   "outputs": [
    {
     "data": {
      "image/png": "[encoded data removed]",
      "text/plain": [
       "<Figure size 640x480 with 1 Axes>"
      ]
     },
     "metadata": {},
     "output_type": "display_data"
    }
   ],
   "source": [
    "RocCurveDisplay.from_estimator(estimator=gs_gnb, \n",
    "                               X=X_test, \n",
    "                               y=y_test); "
   ]
  },
  {
   "cell_type": "markdown",
   "id": "8b786691-1371-45cc-ae22-63ca27568867",
   "metadata": {},
   "source": [
    "### Confusion matrix "
   ]
  },
  {
   "cell_type": "code",
   "execution_count": 44,
   "id": "eecddf95-c289-423c-bdef-856f526648e3",
   "metadata": {},
   "outputs": [
    {
     "name": "stdout",
     "output_type": "stream",
     "text": [
      "[[20  3]\n",
      " [ 3 35]]\n"
     ]
    }
   ],
   "source": [
    "print(confusion_matrix(y_test, y_preds))"
   ]
  },
  {
   "cell_type": "code",
   "execution_count": 45,
   "id": "5467fa15-7918-453d-84e1-4ffcb41e330e",
   "metadata": {},
   "outputs": [
    {
     "data": {
      "image/png": "[encoded data removed]",
      "text/plain": [
       "<Figure size 300x300 with 1 Axes>"
      ]
     },
     "metadata": {},
     "output_type": "display_data"
    }
   ],
   "source": [
    "sns.set(font_scale=1.5) # Increase font size\n",
    "\n",
    "def plot_conf_mat(y_test, y_preds):\n",
    "    \"\"\"\n",
    "    Plots a confusion matrix using Seaborn's heatmap().\n",
    "    \"\"\"\n",
    "    fig, ax = plt.subplots(figsize=(3, 3))\n",
    "    ax = sns.heatmap(confusion_matrix(y_test, y_preds),\n",
    "                     annot=True, # Annotate the boxes\n",
    "                     cbar=False)\n",
    "    plt.xlabel(\"true label\")\n",
    "    plt.ylabel(\"predicted label\")\n",
    "    \n",
    "plot_conf_mat(y_test, y_preds)"
   ]
  },
  {
   "cell_type": "markdown",
   "id": "41cba22a-819d-4f86-82cf-00b3f01c0db6",
   "metadata": {},
   "source": [
    "### Classification report"
   ]
  },
  {
   "cell_type": "code",
   "execution_count": 46,
   "id": "f7021954-d7c9-42e2-8b3a-d31836fcc999",
   "metadata": {},
   "outputs": [
    {
     "name": "stdout",
     "output_type": "stream",
     "text": [
      "              precision    recall  f1-score   support\n",
      "\n",
      "           0       0.87      0.87      0.87        23\n",
      "           1       0.92      0.92      0.92        38\n",
      "\n",
      "    accuracy                           0.90        61\n",
      "   macro avg       0.90      0.90      0.90        61\n",
      "weighted avg       0.90      0.90      0.90        61\n",
      "\n"
     ]
    }
   ],
   "source": [
    "print(classification_report(y_test, y_preds))"
   ]
  },
  {
   "cell_type": "markdown",
   "id": "cec63921-8127-460b-ad7c-97300a2f6bac",
   "metadata": {},
   "source": [
    "### `cross_val_score()`"
   ]
  },
  {
   "cell_type": "code",
   "execution_count": 47,
   "id": "6c9dfb13-7940-4f0f-8bd2-7ddd528e8d31",
   "metadata": {},
   "outputs": [
    {
     "data": {
      "text/plain": [
       "{'priors': [0.3, 0.7], 'var_smoothing': 1e-05}"
      ]
     },
     "execution_count": 47,
     "metadata": {},
     "output_type": "execute_result"
    }
   ],
   "source": [
    "gs_gnb.best_params_"
   ]
  },
  {
   "cell_type": "code",
   "execution_count": 49,
   "id": "b0d0c633-134f-4313-adcd-d91735e7cc08",
   "metadata": {},
   "outputs": [],
   "source": [
    "# Instantiate best model with best hyperparameters (found with GridSearchCV)\n",
    "clf = GaussianNB(priors=[0.3, 0.7], var_smoothing=1e-05)"
   ]
  },
  {
   "cell_type": "code",
   "execution_count": 50,
   "id": "1fead77c-2db4-49e6-8a2a-7003043c4415",
   "metadata": {},
   "outputs": [
    {
     "data": {
      "text/plain": [
       "array([0.81967213, 0.90163934, 0.83606557, 0.85      , 0.7       ])"
      ]
     },
     "execution_count": 50,
     "metadata": {},
     "output_type": "execute_result"
    }
   ],
   "source": [
    "# Cross-validated accuracy score\n",
    "cv_acc = cross_val_score(clf,\n",
    "                         X,\n",
    "                         y,\n",
    "                         cv=5, # 5-fold cross-validation\n",
    "                         scoring=\"accuracy\") # accuracy as scoring\n",
    "cv_acc"
   ]
  },
  {
   "cell_type": "code",
   "execution_count": 51,
   "id": "4d2d71e6-ee9d-4572-87a2-2a28f2dd5101",
   "metadata": {},
   "outputs": [
    {
     "data": {
      "text/plain": [
       "0.8214754098360656"
      ]
     },
     "execution_count": 51,
     "metadata": {},
     "output_type": "execute_result"
    }
   ],
   "source": [
    "cv_acc = np.mean(cv_acc)\n",
    "cv_acc"
   ]
  },
  {
   "cell_type": "code",
   "execution_count": 53,
   "id": "cfca2139-c217-4393-8358-76f80be5f3f3",
   "metadata": {},
   "outputs": [
    {
     "data": {
      "text/plain": [
       "0.8137717837717838"
      ]
     },
     "execution_count": 53,
     "metadata": {},
     "output_type": "execute_result"
    }
   ],
   "source": [
    "# Cross-validated precision score\n",
    "cv_precision = np.mean(cross_val_score(clf,\n",
    "                                       X,\n",
    "                                       y,\n",
    "                                       cv=5, # 5-fold cross-validation\n",
    "                                       scoring=\"precision\")) # precision as scoring\n",
    "cv_precision"
   ]
  },
  {
   "cell_type": "code",
   "execution_count": 54,
   "id": "4a515d51-9f73-49e5-916e-778acf960c72",
   "metadata": {},
   "outputs": [
    {
     "data": {
      "text/plain": [
       "0.8787878787878787"
      ]
     },
     "execution_count": 54,
     "metadata": {},
     "output_type": "execute_result"
    }
   ],
   "source": [
    "# Cross-validated recall score\n",
    "cv_recall = np.mean(cross_val_score(clf,\n",
    "                                    X,\n",
    "                                    y,\n",
    "                                    cv=5, # 5-fold cross-validation\n",
    "                                    scoring=\"recall\")) # recall as scoring\n",
    "cv_recall"
   ]
  },
  {
   "cell_type": "code",
   "execution_count": 55,
   "id": "ae9777cc-60e4-4c8d-ad10-32efc48155d8",
   "metadata": {},
   "outputs": [
    {
     "data": {
      "text/plain": [
       "0.8444354026195459"
      ]
     },
     "execution_count": 55,
     "metadata": {},
     "output_type": "execute_result"
    }
   ],
   "source": [
    "# Cross-validated F1 score\n",
    "cv_f1 = np.mean(cross_val_score(clf,\n",
    "                                X,\n",
    "                                y,\n",
    "                                cv=5, # 5-fold cross-validation\n",
    "                                scoring=\"f1\")) # f1 as scoring\n",
    "cv_f1"
   ]
  },
  {
   "cell_type": "code",
   "execution_count": 56,
   "id": "ece0c929-3fd8-4faf-98e1-16eef6ef82ec",
   "metadata": {},
   "outputs": [
    {
     "data": {
      "image/png": "[encoded data removed]",
      "text/plain": [
       "<Figure size 640x480 with 1 Axes>"
      ]
     },
     "metadata": {},
     "output_type": "display_data"
    }
   ],
   "source": [
    "# Visualizing cross-validated metrics\n",
    "cv_metrics = pd.DataFrame({\"Accuracy\": cv_acc,\n",
    "                            \"Precision\": cv_precision,\n",
    "                            \"Recall\": cv_recall,\n",
    "                            \"F1\": cv_f1},\n",
    "                          index=[0])\n",
    "cv_metrics.T.plot.bar(title=\"Cross-Validated Metrics\", legend=False);"
   ]
  },
  {
   "cell_type": "markdown",
   "id": "e5939f9f-30da-40cb-9334-25bef120b5f5",
   "metadata": {},
   "source": [
    "## Feature importance"
   ]
  },
  {
   "cell_type": "code",
   "execution_count": 57,
   "id": "532344dd-bb8f-40e2-9bd7-710e2708fdd0",
   "metadata": {},
   "outputs": [],
   "source": [
    "clf.fit(X_train, y_train);"
   ]
  },
  {
   "cell_type": "code",
   "execution_count": 59,
   "id": "d65b683b-a3aa-4fab-8f3f-f65419f84587",
   "metadata": {},
   "outputs": [
    {
     "ename": "AttributeError",
     "evalue": "'GaussianNB' object has no attribute 'coefs_'",
     "output_type": "error",
     "traceback": [
      "\u001b[1;31m---------------------------------------------------------------------------\u001b[0m",
      "\u001b[1;31mAttributeError\u001b[0m                            Traceback (most recent call last)",
      "Cell \u001b[1;32mIn[59], line 2\u001b[0m\n\u001b[0;32m      1\u001b[0m \u001b[38;5;66;03m# Check coef_\u001b[39;00m\n\u001b[1;32m----> 2\u001b[0m clf\u001b[38;5;241m.\u001b[39mcoefs_\n",
      "\u001b[1;31mAttributeError\u001b[0m: 'GaussianNB' object has no attribute 'coefs_'"
     ]
    }
   ],
   "source": [
    "# Check coef_\n",
    "clf.coefs_"
   ]
  },
  {
   "cell_type": "markdown",
   "id": "b94a42b7-7a11-461d-b92b-53f986868dd6",
   "metadata": {},
   "source": [
    "**The GaussianNB does not offer an intrinsic method to evaluate feature importances. Naive Bayes methods work by determining the conditional and unconditional probabilities associated with the features and predict the class with the highest probability. Thus, there are no coefficients computed or associated with the features you used to train the model.**"
   ]
  },
  {
   "cell_type": "markdown",
   "id": "b585620f-b99b-499a-afa1-3af6764b205d",
   "metadata": {},
   "source": [
    "## Conclusion\n",
    "In this project, we successfully trained a model using the **Gaussian Naive Bayes (GaussianNB)** algorithm. After evaluating various algorithms, GaussianNB was selected due to its performance and suitability for the dataset. The model was trained with specific priors and variance smoothing parameters, which were carefully chosen to optimize its performance.\n",
    "\n",
    "The results demonstrate the effectiveness of GaussianNB in handling the given dataset, achieving an impressive accuracy of **90%**. This high level of accuracy highlights the model’s capability to provide valuable insights and accurate predictions. Future work could involve exploring other algorithms or fine-tuning the current model to further enhance its performance."
   ]
  }
 ],
 "metadata": {
  "kernelspec": {
   "display_name": "Python 3 (ipykernel)",
   "language": "python",
   "name": "python3"
  },
  "language_info": {
   "codemirror_mode": {
    "name": "ipython",
    "version": 3
   },
   "file_extension": ".py",
   "mimetype": "text/x-python",
   "name": "python",
   "nbconvert_exporter": "python",
   "pygments_lexer": "ipython3",
   "version": "3.12.2"
  }
 },
 "nbformat": 4,
 "nbformat_minor": 5
}
